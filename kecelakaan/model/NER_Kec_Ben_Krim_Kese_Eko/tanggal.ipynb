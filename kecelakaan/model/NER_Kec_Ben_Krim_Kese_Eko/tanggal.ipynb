{
 "cells": [
  {
   "cell_type": "code",
   "execution_count": 1,
   "metadata": {},
   "outputs": [],
   "source": [
    "import re\n",
    "import time\n",
    "import datetime\n",
    "from datetime import datetime as dt"
   ]
  },
  {
   "cell_type": "code",
   "execution_count": 2,
   "metadata": {},
   "outputs": [],
   "source": [
    "def getNewsTime(dateTime: str):\n",
    "    month_to_number = {\n",
    "      'jan': '1',\n",
    "      'feb': '2',\n",
    "      'mar': '3',\n",
    "      'apr': '4',\n",
    "      'mei': '5',\n",
    "      'jun': '6',\n",
    "      'jul': '7',\n",
    "      'agu': '8',\n",
    "      'sep': '9',\n",
    "      'okt': '10',\n",
    "      'nov': '11',\n",
    "      'des': '12',\n",
    "    }\n",
    "\n",
    "    splitted_timestamp = dateTime.split()\n",
    "    pre_formatted_time = splitted_timestamp[1] + '/' + month_to_number[splitted_timestamp[2].lower()] + '/' + splitted_timestamp[3]\n",
    "    \n",
    "    return pre_formatted_time"
   ]
  },
  {
   "cell_type": "code",
   "execution_count": 74,
   "metadata": {},
   "outputs": [],
   "source": [
    "def compareDateArray(sortByLength,newsDate):\n",
    "    year = newsDate.split('/')[2]\n",
    "    timestampList = []\n",
    "    \n",
    "    def convertToTimestapms(date):\n",
    "        return int(time.mktime(datetime.datetime.strptime(date, \"%d/%m/%Y\").timetuple()))\n",
    "\n",
    "    for i, tempTime in enumerate(sortByLength):\n",
    "        # Find the content inside parentheses\n",
    "        if(tempTime[-1:]!=')'):\n",
    "            tempTime=tempTime+')'\n",
    "            \n",
    "        currTime = re.search(r'\\((.*?)\\)', tempTime)\n",
    "        \n",
    "        if (currTime != None):\n",
    "            currTime = currTime.group(1)\n",
    "            \n",
    "        currTime = str(currTime)\n",
    "        \n",
    "        if (tempTime.lower() == 'kemarin' or ('kemarin' in tempTime.lower())):\n",
    "            timestampList.append(convertToTimestapms(newsDate) - (24*60*60))\n",
    "        \n",
    "        if (currTime != None):\n",
    "            # Find the year\n",
    "            splitted = currTime.split('/')\n",
    "\n",
    "            formattedDate = None\n",
    "            if (len(splitted) == 3):\n",
    "                if(len(splitted[2])==2):\n",
    "                    splitted[2]=year\n",
    "                    currTime=\"/\".join(splitted)\n",
    "                year = splitted[2]\n",
    "                timestampList.append(convertToTimestapms(currTime))\n",
    "            elif (len(splitted) == 2):\n",
    "                formattedDate = (splitted[0] + '/' + splitted[1] + '/' + year)\n",
    "                timestampList.append(convertToTimestapms(formattedDate))\n",
    "    \n",
    "    return dt.fromtimestamp(sorted(timestampList)[0]).strftime('%d/%m/%Y')"
   ]
  },
  {
   "cell_type": "code",
   "execution_count": 75,
   "metadata": {},
   "outputs": [
    {
     "name": "stdout",
     "output_type": "stream",
     "text": [
      "['sabtu (9/4/22']\n",
      "newsdate:  12/6/2022\n",
      "['9', '4', '22'] 2\n",
      "masuk\n",
      "['9', '4', '2022'] 4\n",
      "09/04/2022\n"
     ]
    }
   ],
   "source": [
    "# times = ['rabu (8/6)', 'kamis (9/6/2022)', 'selasa (7/6)', 'kemarin']\n",
    "times = ['sabtu (9/4/22']\n",
    "sortedTimes = sorted(times, key=len, reverse=True)\n",
    "print(sortedTimes)\n",
    "\n",
    "# Tanggal berita diformat gini\n",
    "newsDate = getNewsTime('Selasa, 12 Jun 2022 06:30 WIB')\n",
    "print('newsdate: ',newsDate)\n",
    "\n",
    "# if array is empty return news date\n",
    "if(len(sortedTimes) == 0):\n",
    "    print(newsDate)\n",
    "# if array not empty and not contain kemarin\n",
    "elif (len(sortedTimes) >= 1):\n",
    "    print(compareDateArray(sortedTimes,newsDate))\n"
   ]
  }
 ],
 "metadata": {
  "kernelspec": {
   "display_name": "Python 3.8.8 ('venv': venv)",
   "language": "python",
   "name": "python3"
  },
  "language_info": {
   "codemirror_mode": {
    "name": "ipython",
    "version": 3
   },
   "file_extension": ".py",
   "mimetype": "text/x-python",
   "name": "python",
   "nbconvert_exporter": "python",
   "pygments_lexer": "ipython3",
   "version": "3.8.8"
  },
  "orig_nbformat": 4,
  "vscode": {
   "interpreter": {
    "hash": "6343607a20e82ef6625b7fa1bae99c65a25c983ca57e45f4fe7d94f1371f6b71"
   }
  }
 },
 "nbformat": 4,
 "nbformat_minor": 2
}
