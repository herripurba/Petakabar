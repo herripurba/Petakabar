{
 "cells": [
  {
   "cell_type": "code",
   "execution_count": 6,
   "metadata": {},
   "outputs": [],
   "source": [
    "import pandas as pd\n",
    "import joblib"
   ]
  },
  {
   "cell_type": "code",
   "execution_count": 3,
   "metadata": {},
   "outputs": [
    {
     "data": {
      "text/html": [
       "<div>\n",
       "<style scoped>\n",
       "    .dataframe tbody tr th:only-of-type {\n",
       "        vertical-align: middle;\n",
       "    }\n",
       "\n",
       "    .dataframe tbody tr th {\n",
       "        vertical-align: top;\n",
       "    }\n",
       "\n",
       "    .dataframe thead th {\n",
       "        text-align: right;\n",
       "    }\n",
       "</style>\n",
       "<table border=\"1\" class=\"dataframe\">\n",
       "  <thead>\n",
       "    <tr style=\"text-align: right;\">\n",
       "      <th></th>\n",
       "      <th>province</th>\n",
       "      <th>city</th>\n",
       "      <th>district</th>\n",
       "      <th>subdistrict</th>\n",
       "      <th>postal_code</th>\n",
       "    </tr>\n",
       "  </thead>\n",
       "  <tbody>\n",
       "    <tr>\n",
       "      <th>0</th>\n",
       "      <td>bali</td>\n",
       "      <td>badung</td>\n",
       "      <td>kuta selatan</td>\n",
       "      <td>ungasan</td>\n",
       "      <td>80361</td>\n",
       "    </tr>\n",
       "    <tr>\n",
       "      <th>1</th>\n",
       "      <td>bali</td>\n",
       "      <td>badung</td>\n",
       "      <td>kuta</td>\n",
       "      <td>tuban</td>\n",
       "      <td>80361</td>\n",
       "    </tr>\n",
       "    <tr>\n",
       "      <th>2</th>\n",
       "      <td>bali</td>\n",
       "      <td>badung</td>\n",
       "      <td>kuta utara</td>\n",
       "      <td>tibubeneng</td>\n",
       "      <td>80361</td>\n",
       "    </tr>\n",
       "    <tr>\n",
       "      <th>3</th>\n",
       "      <td>bali</td>\n",
       "      <td>badung</td>\n",
       "      <td>kuta selatan</td>\n",
       "      <td>tanjung benoa</td>\n",
       "      <td>80361</td>\n",
       "    </tr>\n",
       "    <tr>\n",
       "      <th>4</th>\n",
       "      <td>bali</td>\n",
       "      <td>badung</td>\n",
       "      <td>kuta</td>\n",
       "      <td>legian</td>\n",
       "      <td>80361</td>\n",
       "    </tr>\n",
       "  </tbody>\n",
       "</table>\n",
       "</div>"
      ],
      "text/plain": [
       "  province    city      district    subdistrict  postal_code\n",
       "0     bali  badung  kuta selatan        ungasan        80361\n",
       "1     bali  badung          kuta          tuban        80361\n",
       "2     bali  badung    kuta utara     tibubeneng        80361\n",
       "3     bali  badung  kuta selatan  tanjung benoa        80361\n",
       "4     bali  badung          kuta         legian        80361"
      ]
     },
     "execution_count": 3,
     "metadata": {},
     "output_type": "execute_result"
    }
   ],
   "source": [
    "df=pd.read_csv('dataset/kodePos.csv')\n",
    "df.head()"
   ]
  },
  {
   "cell_type": "code",
   "execution_count": 5,
   "metadata": {},
   "outputs": [
    {
     "name": "stdout",
     "output_type": "stream",
     "text": [
      "34 474 6642\n"
     ]
    }
   ],
   "source": [
    "provinsi=[]\n",
    "kabupaten=[]\n",
    "kecamatan=[]\n",
    "\n",
    "for x in range(len(df)):\n",
    "    if(df.iloc[x,0] not in provinsi):\n",
    "        provinsi.append(df.iloc[x,0])\n",
    "    if(df.iloc[x,1] not in kabupaten):\n",
    "        kabupaten.append(df.iloc[x,1])\n",
    "    if(df.iloc[x,2] not in kecamatan):\n",
    "        kecamatan.append(df.iloc[x,2])\n",
    "\n",
    "print(len(provinsi),len(kabupaten),len(kecamatan))"
   ]
  },
  {
   "cell_type": "code",
   "execution_count": 7,
   "metadata": {},
   "outputs": [
    {
     "data": {
      "text/plain": [
       "['dataset/modelLokasi/kecamatan.pkl']"
      ]
     },
     "execution_count": 7,
     "metadata": {},
     "output_type": "execute_result"
    }
   ],
   "source": [
    "joblib.dump(provinsi, \"dataset/modelLokasi/provinsi.pkl\")\n",
    "joblib.dump(kabupaten, \"dataset/modelLokasi/kabupaten.pkl\")\n",
    "joblib.dump(kecamatan, \"dataset/modelLokasi/kecamatan.pkl\")"
   ]
  }
 ],
 "metadata": {
  "kernelspec": {
   "display_name": "Python 3.8.8 ('venv': venv)",
   "language": "python",
   "name": "python3"
  },
  "language_info": {
   "codemirror_mode": {
    "name": "ipython",
    "version": 3
   },
   "file_extension": ".py",
   "mimetype": "text/x-python",
   "name": "python",
   "nbconvert_exporter": "python",
   "pygments_lexer": "ipython3",
   "version": "3.8.8"
  },
  "orig_nbformat": 4,
  "vscode": {
   "interpreter": {
    "hash": "6343607a20e82ef6625b7fa1bae99c65a25c983ca57e45f4fe7d94f1371f6b71"
   }
  }
 },
 "nbformat": 4,
 "nbformat_minor": 2
}
