{
 "cells": [
  {
   "cell_type": "code",
   "execution_count": 1,
   "metadata": {},
   "outputs": [
    {
     "name": "stderr",
     "output_type": "stream",
     "text": [
      "[nltk_data] Downloading package punkt to\n",
      "[nltk_data]     C:\\Users\\User\\AppData\\Roaming\\nltk_data...\n",
      "[nltk_data]   Package punkt is already up-to-date!\n"
     ]
    }
   ],
   "source": [
    "# Import library-library\n",
    "import os\n",
    "import glob\n",
    "from tqdm import tqdm\n",
    "import numpy as np\n",
    "\n",
    "# Data Preparation and Preprocessing\n",
    "import pandas as pd\n",
    "import re\n",
    "from string import digits\n",
    "\n",
    "# Word Embedding\n",
    "import joblib\n",
    "from keybert import KeyBERT\n",
    "kw_extractor = KeyBERT('distilbert-base-nli-mean-tokens')\n",
    "from sklearn.feature_extraction.text import TfidfVectorizer\n",
    "import scipy.sparse\n",
    "from sklearn.metrics.pairwise import cosine_similarity\n",
    "import matplotlib.pyplot as plt\n",
    "from sentence_transformers import SentenceTransformer\n",
    "embedder = SentenceTransformer('xlm-r-distilroberta-base-paraphrase-v1')\n",
    "\n",
    "# Input and Expansion Query\n",
    "import nltk\n",
    "nltk.download('punkt')\n",
    "import math\n",
    "from textblob import TextBlob\n",
    "from yake import KeywordExtractor\n",
    "from nltk.tokenize import wordpunct_tokenize\n",
    "from nltk.corpus import stopwords\n",
    "from nltk import tokenize\n",
    "from operator import itemgetter\n",
    "from nltk.tokenize import word_tokenize\n",
    "from nltk.tag import CRFTagger\n",
    "from textblob import TextBlob\n",
    "NLTK_StopWords = stopwords.words('indonesian')\n",
    "\n",
    "from sklearn.tree import DecisionTreeClassifier\n",
    "import random\n",
    "\n",
    "from spacy import load, displacy\n",
    "import time\n",
    "import datetime\n",
    "from datetime import datetime as dt"
   ]
  },
  {
   "cell_type": "code",
   "execution_count": 2,
   "metadata": {},
   "outputs": [],
   "source": [
    "excluded_words = [\"tempat\", \"waktu\", \"hari\"]\n",
    "\n",
    "NLTK_StopWords = stopwords.words('indonesian')\n",
    "NLTK_StopWords.extend([\"detik\", \"detikjatim\", \"detikjateng\", \"detikjabar\", \"detiksulsel\", \"detiksumbar\", \"detikbali\", \"detikpapua\", \"detiksulteng\", \"detikmaluku\", \"detjatim\", \"detikcom\", \"allahumma\", \"aamiin\", \"allah\", \"bismillah\"])\n",
    "NLTK_StopWords.extend([\"yg\", \"dg\", \"rt\", \"dgn\", \"ny\", \"d\", 'klo', \n",
    "                       'kalo', 'amp', 'biar', 'bikin', 'bilang', \n",
    "                       'gak', 'ga', 'krn', 'nya', 'nih', 'sih', \n",
    "                       'si', 'tau', 'tdk', 'tuh', 'utk', 'ya', \n",
    "                       'jd', 'jgn', 'sdh', 'aja', 'n', 't', \n",
    "                       'nyg', 'hehe', 'pen', 'u', 'nan', 'loh', 'rt',\n",
    "                       '&amp', 'yah'])\n",
    "# txt_stopword = pd.read_csv(\"stopwords.txt\", names= [\"stopwords\"], header = None)\n",
    "\n",
    "# convert stopword string to list & append additional stopword\n",
    "# NLTK_StopWords.extend(txt_stopword[\"stopwords\"][0].split(' '))\n",
    "NLTK_StopWords = set(NLTK_StopWords)"
   ]
  },
  {
   "cell_type": "code",
   "execution_count": 3,
   "metadata": {},
   "outputs": [],
   "source": [
    "def preprocessingCorpus(berita):\n",
    "    s = str(berita)\n",
    "    s = s.lower()\n",
    "    s = s.replace('\\n', ' ')\n",
    "    s = s.replace('\\r', ' ')\n",
    "    s = re.sub(r'[^a-zA-Z0-9\\s]', ' ', s)\n",
    "    tokens = [token for token in s.split(\" \") if token != \"\"]\n",
    "    T = [t for t in tokens if ((t in excluded_words) or (t not in NLTK_StopWords))]\n",
    "    return T\n",
    "\n",
    "ct =CRFTagger()\n",
    "ct.set_model_file('model/TagIndo/all_indo_man_tag_corpus_model.crf.tagger')\n",
    "def preprocessingKeparahan(berita):\n",
    "    s = berita\n",
    "    s = s.replace('\\n', ' ')\n",
    "    s = s.replace('\\r', ' ')\n",
    "    s = re.sub(\"\\(.*?\\)\", \"\", s)\n",
    "    # s = s.lower()\n",
    "    tokens = word_tokenize(s)\n",
    "    return tokens\n",
    "\n",
    "def preprocessingNER(berita):\n",
    "    s = str(berita)\n",
    "    s = s.lower()\n",
    "    s = s.replace('\\n', ' ')\n",
    "    s = s.replace('\\r', ' ')\n",
    "    # tokens = [token for token in s.split(\" \") if token != \"\"]\n",
    "    return s"
   ]
  },
  {
   "cell_type": "code",
   "execution_count": 4,
   "metadata": {},
   "outputs": [
    {
     "name": "stdout",
     "output_type": "stream",
     "text": [
      "<class 'pandas.core.frame.DataFrame'>\n",
      "Int64Index: 3686 entries, 0 to 3685\n",
      "Data columns (total 4 columns):\n",
      " #   Column       Non-Null Count  Dtype \n",
      "---  ------       --------------  ----- \n",
      " 0   title        3685 non-null   object\n",
      " 1   date         3686 non-null   object\n",
      " 2   description  3686 non-null   object\n",
      " 3   source       3686 non-null   object\n",
      "dtypes: object(4)\n",
      "memory usage: 144.0+ KB\n",
      "None\n",
      "------------------------------------------------------------------------------------------\n",
      "3686\n"
     ]
    }
   ],
   "source": [
    "df_train = pd.read_csv('dataset/df_train.csv')\n",
    "df_train = df_train[pd.notnull(df_train['description'])]\n",
    "print(df_train.info())\n",
    "print ('-'*90)\n",
    "# document_text_train= joblib.load('document_text_train.pkl')\n",
    "print(len(df_train))"
   ]
  },
  {
   "cell_type": "code",
   "execution_count": 30,
   "metadata": {},
   "outputs": [
    {
     "name": "stdout",
     "output_type": "stream",
     "text": [
      "<class 'pandas.core.frame.DataFrame'>\n",
      "Int64Index: 100 entries, 0 to 99\n",
      "Data columns (total 4 columns):\n",
      " #   Column       Non-Null Count  Dtype \n",
      "---  ------       --------------  ----- \n",
      " 0   title        100 non-null    object\n",
      " 1   date         100 non-null    object\n",
      " 2   description  100 non-null    object\n",
      " 3   source       100 non-null    object\n",
      "dtypes: object(4)\n",
      "memory usage: 3.9+ KB\n",
      "None\n",
      "------------------------------------------------------------------------------------------\n",
      "100\n"
     ]
    }
   ],
   "source": [
    "df_test = pd.read_csv('dataset/df_test_noPre2.csv')\n",
    "df_test = df_test[pd.notnull(df_test['description'])]\n",
    "print(df_test.info())\n",
    "print ('-'*90)\n",
    "# document_text_train= joblib.load('document_text_train.pkl')\n",
    "print(len(df_test))"
   ]
  },
  {
   "cell_type": "markdown",
   "metadata": {},
   "source": [
    "# What"
   ]
  },
  {
   "cell_type": "code",
   "execution_count": 6,
   "metadata": {},
   "outputs": [],
   "source": [
    "def cari_dokpertama(kueriAsli):\n",
    "    kueriPre=preprocessingCorpus(kueriAsli)\n",
    "    kueriPre= \" \".join (kueriPre)\n",
    "    hasilSearch=[]\n",
    "    tfidf_train = joblib.load('model/QE/tfidf_train.pkl')\n",
    "    tfidf_vectorizer = joblib.load('model/QE/vectorizer.pkl')\n",
    "    \n",
    "    query_vec= tfidf_vectorizer.transform([kueriPre])\n",
    "\n",
    "    results=cosine_similarity(tfidf_train, query_vec).reshape((-1))\n",
    "    for i in results.argsort()[-5:][::-1]:\n",
    "        hasilSearch.append(df_train.iloc[i,-2])\n",
    "    hasilSearch=\". \".join(hasilSearch)\n",
    "    return hasilSearch\n",
    "\n"
   ]
  },
  {
   "cell_type": "code",
   "execution_count": 7,
   "metadata": {},
   "outputs": [],
   "source": [
    "##Keywords Extraction with YAKE\n",
    "def keyword_yake(hasilSearch):\n",
    "    keywordYake=[]\n",
    "\n",
    "    k_extractor = KeywordExtractor(lan=\"id\", n=1, top=50)\n",
    "    k_extractor2 = KeywordExtractor(lan=\"id\", n=2, top=50)\n",
    "\n",
    "    keywords = k_extractor.extract_keywords(text=hasilSearch)\n",
    "    keywords = k_extractor2.extract_keywords(text=hasilSearch)\n",
    "\n",
    "    keywordYake = [x for x, y in keywords]\n",
    "    return keywordYake"
   ]
  },
  {
   "cell_type": "code",
   "execution_count": 8,
   "metadata": {},
   "outputs": [],
   "source": [
    "#Keywords Extraction with TFIDF\n",
    "def keyword_tfidf(hasilSearch):\n",
    "\n",
    "    keywordtfidf=[]\n",
    "    keywordtfidf2=[]\n",
    "\n",
    "    #doc = 'بَاب فرض الْوضُوء وسننه وهيآته وَفرض الْوضُوء سِتّ خِصَال النِّيَّة عمند غسل الْوَجْه وَغسل الْوَجْه وَغسل الذراعين مَعَ الْمرْفقين وَمسح مَا قل من الرَّأْس وَغسل الرجلَيْن مَعَ الْكَعْبَيْنِ وَالتَّرْتِيب وعَلى قَول الْوَلَاء وسننه عشر خِصَال خمس مِنْهَا قبل غسل الْوَجْه وَهِي التَّسْمِيَة وَغسل الْكَفَّيْنِ والمضمضة وَالِاسْتِنْشَاق وَالْمُبَالغَة فيههما إِلَّا للصَّائِم وَخمْس بعد غسل الْوَجْه وَهِي تَقْدِيم الْيُمْنَى على ليسرى وَمسح جَمِيع الرَّأْس وَمسح الْأُذُنَيْنِ ظاهرهما وباطنهما وَإِدْخَال الأصبعين فيهمَا وتخليل أَصَابِع الرجلَيْن . وَغسل دَاخل الْكَعْبَيْنِ وَلَيْسَ مسح لعنق من سنَنه وفضيلته تكراره ثَلَاثًا وزالواجب فِيهِ مرّة والمرتان أفضل وَالثَّلَاث أكمل وهيآته أَن يبْدَأ فِي تَطْهِير الْأَعْضَاء بمواضع الِابْتِدَاء . فَإِن اقْتصر على فروضه استة أَجزَأَهُ وَإِن ضيع حَظّ نَفسه فِيمَا ترك'\n",
    "    total_words = re.sub(r'[^\\w]', ' ', hasilSearch)\n",
    "    total_words = total_words.lower().split()\n",
    "    total_word_length = len(total_words)\n",
    "    total_sentences = tokenize.sent_tokenize(hasilSearch)\n",
    "    total_sent_len = len(total_sentences)\n",
    "\n",
    "    tf_score = {}\n",
    "    for each_word in total_words:\n",
    "        each_word = each_word.replace('.','')\n",
    "        if each_word not in NLTK_StopWords:\n",
    "            if each_word in tf_score:\n",
    "                tf_score[each_word] += 1\n",
    "            else:\n",
    "                tf_score[each_word] = 1\n",
    "\n",
    "    # Dividing by total_word_length for each dictionary element\n",
    "    tf_score.update((x, y/int(total_word_length)) for x, y in tf_score.items())\n",
    "    def check_sent(word, sentences): \n",
    "        final = [all([w in x for w in word]) for x in sentences] \n",
    "        sent_len = [sentences[i] for i in range(0, len(final)) if final[i]]\n",
    "        return int(len(sent_len))\n",
    "\n",
    "    idf_score = {}\n",
    "    for each_word in total_words:\n",
    "        each_word = each_word.replace('.','')\n",
    "        if each_word not in NLTK_StopWords:\n",
    "            if each_word in idf_score:\n",
    "                idf_score[each_word] = check_sent(each_word, total_sentences)\n",
    "            else:\n",
    "                idf_score[each_word] = 1\n",
    "\n",
    "    # Performing a log and divide\n",
    "    idf_score.update((x, math.log(int(total_sent_len)/y)) for x, y in idf_score.items())\n",
    "    tf_idf_score = {key: tf_score[key] * idf_score.get(key, 0) for key in tf_score.keys()}\n",
    "\n",
    "    def get_top_n(dict_elem, n):\n",
    "        result = dict(sorted(dict_elem.items(), key = itemgetter(1), reverse = True)[:n]) \n",
    "        hasil =list(result.keys()) \n",
    "        return hasil\n",
    "    keywordtfidf.append(get_top_n(tf_idf_score, 35))\n",
    "    for i in range(len(keywordtfidf)):\n",
    "        totalKw=0\n",
    "        totalKw=len(keywordtfidf[i])\n",
    "        for j in range(totalKw):\n",
    "            keywordtfidf2.append(keywordtfidf[i][j])\n",
    "    return keywordtfidf2"
   ]
  },
  {
   "cell_type": "code",
   "execution_count": 9,
   "metadata": {},
   "outputs": [],
   "source": [
    "#Keywords Extraction with BERT\n",
    "def keyword_bert(hasilSearch):\n",
    "\n",
    "    keywordbert=[]\n",
    "\n",
    "    keyword1 = kw_extractor.extract_keywords(hasilSearch, top_n=50, keyphrase_ngram_range=(1, 1))\n",
    "    keyword2 = kw_extractor.extract_keywords(hasilSearch, top_n=50, keyphrase_ngram_range=(1, 2))\n",
    "\n",
    "    for i in range (0,len (keyword1)):\n",
    "        keywordbert.append(keyword1[i][0])\n",
    "        keywordbert.append(keyword2[i][0])\n",
    "    return keywordbert"
   ]
  },
  {
   "cell_type": "code",
   "execution_count": 10,
   "metadata": {},
   "outputs": [],
   "source": [
    "def rangking (keywordGabung):\n",
    "    keywordTemp=[]\n",
    "    keywordFinal=[]\n",
    "\n",
    "    def borda_sort(lists):\n",
    "        scores = {}\n",
    "        for l in lists:\n",
    "            for idx, elem in enumerate(reversed(l)):\n",
    "                if not elem in scores:\n",
    "                    scores[elem] = 0\n",
    "                scores[elem] += idx\n",
    "        return sorted(scores.keys(), key=lambda elem: scores[elem], reverse=True)\n",
    "\n",
    "    keywordTemp.append(borda_sort(keywordGabung))\n",
    "    # print ('kandidat temp',keywordTemp)\n",
    "    # print ('Total Kandidat temp: ',len(keywordTemp[0]))\n",
    "\n",
    "    if len(keywordTemp[0])>30:\n",
    "        # print ('kurang dari 80')\n",
    "        for i in range (0,80):\n",
    "            keywordFinal.append(keywordTemp[0][i])\n",
    "    elif len(keywordTemp[0])<80:\n",
    "        # print ('lebih dari 80')\n",
    "        for i in range (0,len(keywordTemp)):\n",
    "            for j in range (0,len(keywordTemp[0])):\n",
    "                keywordFinal.append(keywordTemp[0][j])\n",
    "    # print ('Total Kandidat final: ',len(keywordFinal))\n",
    "    # print ('Kandidat final: ',keywordFinal)\n",
    "    return keywordFinal\n"
   ]
  },
  {
   "cell_type": "code",
   "execution_count": 11,
   "metadata": {},
   "outputs": [],
   "source": [
    "def keyword_BOW(keywordBOW, kueriAsli):\n",
    "    cekDuplicate = []\n",
    "    kandidatFix = []\n",
    "\n",
    "    for i in keywordBOW:\n",
    "        if(i not in cekDuplicate and i!=0):\n",
    "            cekDuplicate.append(i)\n",
    "\n",
    "    queries=kueriAsli\n",
    "    query_embeddings = embedder.encode(queries)\n",
    "    corpus_embeddings4 = embedder.encode(cekDuplicate)\n",
    "    \n",
    "    # Find the closest 5 sentences of the corpus for each query sentence based on cosine similarity\n",
    "    closest_n = 2200\n",
    "    for query, query_embedding in zip(queries, query_embeddings):\n",
    "        distances = scipy.spatial.distance.cdist([query_embedding], corpus_embeddings4, 'cosine')[0]\n",
    "        results = zip(range(len(distances)), distances)\n",
    "        results = sorted(results, key=lambda x: x[1])\n",
    "        for idx, distance in results[0:closest_n]:\n",
    "            kandidatFix.append(cekDuplicate[idx])\n",
    "    return kandidatFix"
   ]
  },
  {
   "cell_type": "code",
   "execution_count": 12,
   "metadata": {},
   "outputs": [],
   "source": [
    "def kandidatFix(kueriAsli,bow):\n",
    "    #kueri what\n",
    "    # kueriAsli='apa sebenarnya kejadian yang terjadi diberita tersebut'\n",
    "    kueri=preprocessingCorpus(kueriAsli)\n",
    "    kueri= [\" \".join (kueri)]\n",
    "    # print (kueri)\n",
    "    hasilkandidat=[]\n",
    "    keywordGabung=[]\n",
    "    kandidatFix=[]\n",
    "    kueriFix=[]\n",
    "    kueriFixWithDelimiter=[]\n",
    "    \n",
    "\n",
    "\n",
    "    hasilSearch=cari_dokpertama(kueriAsli)\n",
    "    keywordYake=keyword_yake(hasilSearch)\n",
    "    keywordtfidf2=keyword_tfidf(hasilSearch)\n",
    "    keywordbert=keyword_bert (hasilSearch)\n",
    "    keywordBOW=keyword_BOW(bow, kueri)\n",
    "\n",
    "    keywordGabung.append(keywordYake)\n",
    "    keywordGabung.append(keywordtfidf2)\n",
    "    keywordGabung.append(keywordbert)\n",
    "    # keywordGabung.append(keywordBOW)\n",
    "    hasilrank=rangking(keywordGabung)\n",
    "\n",
    "    for i in hasilrank:\n",
    "        kueriFix.append(i)\n",
    "    for x in keywordBOW:\n",
    "        kueriFix.append(x)\n",
    "    for j in kueriFix:\n",
    "        hasilkandidat.append(j)\n",
    "    kueriFixWithDelimiter=kueriFix\n",
    "    kueriFix=[preprocessingCorpus(i) for i in kueriFix]\n",
    "    for i in kueriFix:\n",
    "        for j in i:\n",
    "            kandidatFix.append(j)\n",
    "    kandidatFix= [\" \".join (kandidatFix)]\n",
    "    \n",
    "    print ('*'*120)\n",
    "    return(kandidatFix,keywordGabung,keywordBOW,hasilrank,kueriFixWithDelimiter)\n"
   ]
  },
  {
   "cell_type": "code",
   "execution_count": 13,
   "metadata": {},
   "outputs": [
    {
     "name": "stdout",
     "output_type": "stream",
     "text": [
      "************************************************************************************************************************\n"
     ]
    }
   ],
   "source": [
    "kueriAsliWhat='apa sebenarnya kejadian kecelakaan yang terjadi diberita tersebut'\n",
    "\n",
    "bow_kecelakaan_text = joblib.load('model/QE/bow_kecelakaan_text.pkl')\n",
    "\n",
    "kandidatFixWhat,keywordGabungWhat,keywordBOW_What, hasilrankWhat, kueriFixWithDelimiter_What = kandidatFix(kueriAsliWhat, bow_kecelakaan_text)\n",
    "\n"
   ]
  },
  {
   "cell_type": "markdown",
   "metadata": {},
   "source": [
    "# Keparahan"
   ]
  },
  {
   "cell_type": "code",
   "execution_count": 14,
   "metadata": {},
   "outputs": [],
   "source": [
    "def structureCheck(indeks,arr):\n",
    "    if(arr[0][indeks][1]=='VB' or arr[0][indeks][1]=='IN' or arr[0][indeks][1]=='NN' or arr[0][indeks][1]=='NNP' or arr[0][indeks][1]=='SC' or arr[0][indeks][1]=='JJ' or arr[0][indeks][1]=='PR'  or arr[0][indeks][1]=='NND'  or arr[0][indeks][1]=='RB'  or arr[0][indeks][1]=='SYM'  or arr[0][indeks][1]=='RP' or arr[0][indeks][1]=='PRP' or arr[0][indeks][1]=='DT' or arr[0][indeks][1]=='FW' or arr[0][indeks][1]=='MD' or arr[0][indeks][1]=='NEG' or arr[0][indeks][1]=='UH' or arr[0][indeks][1]=='VH'):\n",
    "        return 1\n",
    "    else:\n",
    "        return 0\n",
    "def cdStructureCheck(indeks,arr):\n",
    "    if(arr[0][indeks][1]=='CD' or arr[0][indeks][1]=='OD' or arr[0][indeks][0]=='Sang' or arr[0][indeks][0]=='sang' or arr[0][indeks][0]=='Seorang'  or arr[0][indeks][0]=='seorang'  or arr[0][indeks][0]=='seseorang' or arr[0][indeks][0]=='Seseorang' or arr[0][indeks][0]=='Empat' or arr[0][indeks][0]=='Lima' or arr[0][indeks][0]=='Enam' or arr[0][indeks][0]=='Tujuh' or arr[0][indeks][0]=='Delapan' or arr[0][indeks][0]=='Sembilan' or arr[0][indeks][0]=='Sepuluh'  or arr[0][indeks][0]=='Pasangan'  or arr[0][indeks][0]=='pasangan'  or arr[0][indeks][0]=='belasan'  or arr[0][indeks][0]=='Belasan'):\n",
    "        return 1\n",
    "    else:\n",
    "        return 0"
   ]
  },
  {
   "cell_type": "code",
   "execution_count": 15,
   "metadata": {},
   "outputs": [],
   "source": [
    "def struktur1(arr,indeks):\n",
    "    \n",
    "    if(indeks-2>=0 \n",
    "        and cdStructureCheck(indeks-1,arr) \n",
    "        and cdStructureCheck(indeks-2,arr)):\n",
    "        return (arr[0][indeks-2][0] + ' ' + arr[0][indeks-1][0])\n",
    "    elif(indeks+2<=len(arr[0])-1 \n",
    "        and cdStructureCheck(indeks+1,arr) \n",
    "        and cdStructureCheck(indeks+2,arr)):\n",
    "        return (arr[0][indeks+1][0] + ' ' + arr[0][indeks+2][0])\n",
    "    elif(indeks-1>=0 \n",
    "        and cdStructureCheck(indeks-1,arr)):\n",
    "        return arr[0][indeks-1][0]\n",
    "    elif(indeks+1<=len(arr[0])-1 \n",
    "        and cdStructureCheck(indeks+1,arr)):\n",
    "        return arr[0][indeks+1][0]\n",
    "    elif(indeks-3>=0 \n",
    "        and structureCheck(indeks-1,arr) \n",
    "        and cdStructureCheck(indeks-2,arr) and cdStructureCheck(indeks-3,arr)):\n",
    "        return (arr[0][indeks-3][0] + ' ' + arr[0][indeks-2][0])\n",
    "    elif(indeks+3<=len(arr[0])-1 \n",
    "        and structureCheck(indeks+1,arr) \n",
    "        and cdStructureCheck(indeks+2,arr) and cdStructureCheck(indeks+3,arr)):\n",
    "        return (arr[0][indeks+2][0] + ' ' + arr[0][indeks+3][0])\n",
    "    elif(indeks-2>=0 \n",
    "        and structureCheck(indeks-1,arr) \n",
    "        and cdStructureCheck(indeks-2,arr)):\n",
    "        return arr[0][indeks-2][0]\n",
    "    elif(indeks+2<=len(arr[0])-1 \n",
    "        and structureCheck(indeks+1,arr) \n",
    "        and cdStructureCheck(indeks+2,arr)):\n",
    "        return arr[0][indeks+2][0]\n",
    "    elif(indeks-4>=0 \n",
    "        and structureCheck(indeks-1,arr) and structureCheck(indeks-2,arr) \n",
    "        and cdStructureCheck(indeks-3,arr) and cdStructureCheck(indeks-4,arr)):\n",
    "        return (arr[0][indeks-4][0] + ' ' + arr[0][indeks-3][0])\n",
    "    elif(indeks+4<=len(arr[0])-1 \n",
    "        and structureCheck(indeks+1,arr) and structureCheck(indeks+2,arr) \n",
    "        and cdStructureCheck(indeks+3,arr) and cdStructureCheck(indeks+4,arr)):\n",
    "        return (arr[0][indeks+3][0] + ' ' + arr[0][indeks+4][0])\n",
    "    elif(indeks-3>=0 \n",
    "        and structureCheck(indeks-1,arr) and structureCheck(indeks-2,arr) \n",
    "        and cdStructureCheck(indeks-3,arr)):\n",
    "        return arr[0][indeks-3][0]\n",
    "    elif(indeks+3<=len(arr[0])-1 \n",
    "        and structureCheck(indeks+1,arr) and structureCheck(indeks+2,arr) \n",
    "        and cdStructureCheck(indeks+3,arr)):\n",
    "        return arr[0][indeks+3][0]\n",
    "    elif(indeks-5>=0 \n",
    "        and structureCheck(indeks-1,arr) and structureCheck(indeks-2,arr) and structureCheck(indeks-3,arr) \n",
    "        and cdStructureCheck(indeks-4,arr) and cdStructureCheck(indeks-5,arr)):\n",
    "        return (arr[0][indeks-5][0] + ' ' + arr[0][indeks-4][0])\n",
    "    elif(indeks+5<=len(arr[0])-1 \n",
    "        and structureCheck(indeks+1,arr) and structureCheck(indeks+2,arr) and structureCheck(indeks+3,arr) \n",
    "        and cdStructureCheck(indeks+4,arr) and cdStructureCheck(indeks+5,arr)):\n",
    "        return (arr[0][indeks+4][0] + ' ' + arr[0][indeks+5][0])\n",
    "    elif(indeks-4>=0 \n",
    "        and structureCheck(indeks-1,arr) and structureCheck(indeks-2,arr) and structureCheck(indeks-3,arr) \n",
    "        and cdStructureCheck(indeks-4,arr)):\n",
    "        return arr[0][indeks-4][0]\n",
    "    elif(indeks+4<=len(arr[0])-1 \n",
    "        and structureCheck(indeks+1,arr) and structureCheck(indeks+2,arr) and structureCheck(indeks+3,arr) \n",
    "        and cdStructureCheck(indeks+4,arr)):\n",
    "        return arr[0][indeks+4][0]\n",
    "    elif(indeks-6>=0 \n",
    "        and structureCheck(indeks-1,arr) and structureCheck(indeks-2,arr) and structureCheck(indeks-3,arr) and structureCheck(indeks-4,arr) \n",
    "        and cdStructureCheck(indeks-5,arr) and cdStructureCheck(indeks-6,arr)):\n",
    "        return (arr[0][indeks-6][0] + ' ' + arr[0][indeks-5][0])\n",
    "    elif(indeks+6<=len(arr[0])-1 \n",
    "        and structureCheck(indeks+1,arr) and structureCheck(indeks+2,arr) and structureCheck(indeks+3,arr) and structureCheck(indeks+4,arr) \n",
    "        and cdStructureCheck(indeks+5,arr) and cdStructureCheck(indeks+6,arr)):\n",
    "        return (arr[0][indeks+5][0] + ' ' + arr[0][indeks+6][0])\n",
    "    elif(indeks-5>=0 \n",
    "        and structureCheck(indeks-1,arr) and structureCheck(indeks-2,arr) and structureCheck(indeks-3,arr) and structureCheck(indeks-4,arr) \n",
    "        and cdStructureCheck(indeks-5,arr)):\n",
    "        return arr[0][indeks-5][0]\n",
    "    elif(indeks+5<=len(arr[0])-1 \n",
    "        and structureCheck(indeks+1,arr) and structureCheck(indeks+2,arr) and structureCheck(indeks+3,arr) and structureCheck(indeks+4,arr) \n",
    "        and cdStructureCheck(indeks+5,arr)):\n",
    "        return arr[0][indeks+5][0]\n",
    "    elif(indeks-7>=0 \n",
    "        and structureCheck(indeks-1,arr) and structureCheck(indeks-2,arr) and structureCheck(indeks-3,arr) and structureCheck(indeks-4,arr) \n",
    "        and structureCheck(indeks-5,arr) \n",
    "        and cdStructureCheck(indeks-6,arr) and cdStructureCheck(indeks-7,arr)):\n",
    "        return (arr[0][indeks-7][0] + ' ' + arr[0][indeks-6][0])\n",
    "    elif(indeks+7<=len(arr[0])-1 \n",
    "        and structureCheck(indeks+1,arr) and structureCheck(indeks+2,arr) and structureCheck(indeks+3,arr) and structureCheck(indeks+4,arr) \n",
    "        and structureCheck(indeks+5,arr) \n",
    "        and cdStructureCheck(indeks+6,arr) and cdStructureCheck(indeks+7,arr)):\n",
    "        return (arr[0][indeks+6][0] + ' ' + arr[0][indeks+7][0])\n",
    "    elif(indeks-6>=0 \n",
    "        and structureCheck(indeks-1,arr) and structureCheck(indeks-2,arr) and structureCheck(indeks-3,arr) and structureCheck(indeks-4,arr) \n",
    "        and structureCheck(indeks-5,arr) \n",
    "        and cdStructureCheck(indeks-6,arr)):\n",
    "        return arr[0][indeks-6][0]\n",
    "    elif(indeks+6<=len(arr[0])-1 \n",
    "        and structureCheck(indeks+1,arr) and structureCheck(indeks+2,arr) and structureCheck(indeks+3,arr) and structureCheck(indeks+4,arr) \n",
    "        and structureCheck(indeks+5,arr) \n",
    "        and cdStructureCheck(indeks+6,arr)):\n",
    "        return arr[0][indeks+6][0]\n",
    "    elif(indeks-8>=0 \n",
    "        and structureCheck(indeks-1,arr) and structureCheck(indeks-2,arr) and structureCheck(indeks-3,arr) and structureCheck(indeks-4,arr) \n",
    "        and structureCheck(indeks-5,arr) and structureCheck(indeks-6,arr) \n",
    "        and cdStructureCheck(indeks-7,arr) and cdStructureCheck(indeks-8,arr)):\n",
    "        return (arr[0][indeks-8][0] + ' ' + arr[0][indeks-7][0])\n",
    "    elif(indeks+8<=len(arr[0])-1 \n",
    "        and structureCheck(indeks+1,arr) and structureCheck(indeks+2,arr) and structureCheck(indeks+3,arr) and structureCheck(indeks+4,arr) \n",
    "        and structureCheck(indeks+5,arr) and structureCheck(indeks+6,arr) \n",
    "        and cdStructureCheck(indeks+7,arr) and cdStructureCheck(indeks+8,arr)):\n",
    "        return (arr[0][indeks+7][0] + ' ' + arr[0][indeks+8][0])\n",
    "    elif(indeks-7>=0 \n",
    "        and structureCheck(indeks-1,arr) and structureCheck(indeks-2,arr) and structureCheck(indeks-3,arr) and structureCheck(indeks-4,arr) \n",
    "        and structureCheck(indeks-5,arr) and structureCheck(indeks-6,arr) \n",
    "        and cdStructureCheck(indeks-7,arr)):\n",
    "        return arr[0][indeks-7][0]\n",
    "    elif(indeks+7<=len(arr[0])-1 \n",
    "        and structureCheck(indeks+1,arr) and structureCheck(indeks+2,arr) and structureCheck(indeks+3,arr) and structureCheck(indeks+4,arr) \n",
    "        and structureCheck(indeks+5,arr) and structureCheck(indeks+6,arr) \n",
    "        and cdStructureCheck(indeks+7,arr)):\n",
    "        return arr[0][indeks+7][0]\n",
    "    elif(indeks-9>=0 \n",
    "        and structureCheck(indeks-1,arr) and structureCheck(indeks-2,arr) and structureCheck(indeks-3,arr) and structureCheck(indeks-4,arr) \n",
    "        and structureCheck(indeks-5,arr) and structureCheck(indeks-6,arr) and structureCheck(indeks-7,arr) \n",
    "        and cdStructureCheck(indeks-8,arr) and cdStructureCheck(indeks-9,arr)):\n",
    "        return (arr[0][indeks-9][0] + ' ' + arr[0][indeks-8][0])\n",
    "    elif(indeks+9<=len(arr[0])-1 \n",
    "        and structureCheck(indeks+1,arr) and structureCheck(indeks+2,arr) and structureCheck(indeks+3,arr) and structureCheck(indeks+4,arr) \n",
    "        and structureCheck(indeks+5,arr) and structureCheck(indeks+6,arr) and structureCheck(indeks+7,arr) \n",
    "        and cdStructureCheck(indeks+8,arr) and cdStructureCheck(indeks+9,arr)):\n",
    "        return (arr[0][indeks+8][0] + ' ' + arr[0][indeks+9][0])\n",
    "    elif(indeks-8>=0 \n",
    "        and structureCheck(indeks-1,arr) and structureCheck(indeks-2,arr) and structureCheck(indeks-3,arr) and structureCheck(indeks-4,arr) \n",
    "        and structureCheck(indeks-5,arr) and structureCheck(indeks-6,arr) and structureCheck(indeks-7,arr) \n",
    "        and cdStructureCheck(indeks-8,arr)):\n",
    "        return arr[0][indeks-8][0]\n",
    "    elif(indeks+8<=len(arr[0])-1 \n",
    "        and structureCheck(indeks+1,arr) and structureCheck(indeks+2,arr) and structureCheck(indeks+3,arr) and structureCheck(indeks+4,arr) \n",
    "        and structureCheck(indeks+5,arr) and structureCheck(indeks+6,arr) and structureCheck(indeks+7,arr) \n",
    "        and cdStructureCheck(indeks+8,arr)):\n",
    "        return arr[0][indeks+8][0]\n",
    "    elif(indeks-10>=0 \n",
    "        and structureCheck(indeks-1,arr) and structureCheck(indeks-2,arr) and structureCheck(indeks-3,arr) and structureCheck(indeks-4,arr) \n",
    "        and structureCheck(indeks-5,arr) and structureCheck(indeks-6,arr) and structureCheck(indeks-7,arr) and structureCheck(indeks-8,arr) \n",
    "        and cdStructureCheck(indeks-9,arr) and cdStructureCheck(indeks-10,arr)):\n",
    "        return (arr[0][indeks-10][0] + ' ' + arr[0][indeks-9][0])\n",
    "    elif(indeks+10<=len(arr[0])-1 \n",
    "        and structureCheck(indeks+1,arr) and structureCheck(indeks+2,arr) and structureCheck(indeks+3,arr) and structureCheck(indeks+4,arr) \n",
    "        and structureCheck(indeks+5,arr) and structureCheck(indeks+6,arr) and structureCheck(indeks+7,arr) and structureCheck(indeks+8,arr) \n",
    "        and cdStructureCheck(indeks+9,arr) and cdStructureCheck(indeks+10,arr)):\n",
    "        return (arr[0][indeks+9][0] + ' ' + arr[0][indeks+10][0])\n",
    "    elif(indeks-9>=0 \n",
    "        and structureCheck(indeks-1,arr) and structureCheck(indeks-2,arr) and structureCheck(indeks-3,arr) and structureCheck(indeks-4,arr) \n",
    "        and structureCheck(indeks-5,arr) and structureCheck(indeks-6,arr) and structureCheck(indeks-7,arr) and structureCheck(indeks-8,arr) \n",
    "        and cdStructureCheck(indeks-9,arr)):\n",
    "        return arr[0][indeks-9][0]\n",
    "    elif(indeks+9<=len(arr[0])-1 \n",
    "        and structureCheck(indeks+1,arr) and structureCheck(indeks+2,arr) and structureCheck(indeks+3,arr) and structureCheck(indeks+4,arr) \n",
    "        and structureCheck(indeks+5,arr) and structureCheck(indeks+6,arr) and structureCheck(indeks+7,arr) and structureCheck(indeks+8,arr) \n",
    "        and cdStructureCheck(indeks+9,arr)):\n",
    "        return arr[0][indeks+9][0]\n",
    "    elif(indeks-11>=0 \n",
    "        and structureCheck(indeks-1,arr) and structureCheck(indeks-2,arr) and structureCheck(indeks-3,arr) and structureCheck(indeks-4,arr) \n",
    "        and structureCheck(indeks-5,arr) and structureCheck(indeks-6,arr) and structureCheck(indeks-7,arr) and structureCheck(indeks-8,arr) \n",
    "        and structureCheck(indeks-9,arr) \n",
    "        and cdStructureCheck(indeks-10,arr) and cdStructureCheck(indeks-11,arr)):\n",
    "        return (arr[0][indeks-11][0] + ' ' + arr[0][indeks-10][0])\n",
    "    elif(indeks+11<=len(arr[0])-1 \n",
    "        and structureCheck(indeks+1,arr) and structureCheck(indeks+2,arr) and structureCheck(indeks+3,arr) and structureCheck(indeks+4,arr) \n",
    "        and structureCheck(indeks+5,arr) and structureCheck(indeks+6,arr) and structureCheck(indeks+7,arr) and structureCheck(indeks+8,arr) \n",
    "        and structureCheck(indeks+9,arr) \n",
    "        and cdStructureCheck(indeks+10,arr) and cdStructureCheck(indeks+11,arr)):\n",
    "        return (arr[0][indeks+10][0] + ' ' + arr[0][indeks+11][0])\n",
    "    elif(indeks-10>=0 \n",
    "        and structureCheck(indeks-1,arr) and structureCheck(indeks-2,arr) and structureCheck(indeks-3,arr) and structureCheck(indeks-4,arr) \n",
    "        and structureCheck(indeks-5,arr) and structureCheck(indeks-6,arr) and structureCheck(indeks-7,arr) and structureCheck(indeks-8,arr) \n",
    "        and structureCheck(indeks-9,arr) \n",
    "        and cdStructureCheck(indeks-10,arr)):\n",
    "        return arr[0][indeks-10][0]\n",
    "    elif(indeks+10<=len(arr[0])-1 \n",
    "        and structureCheck(indeks+1,arr) and structureCheck(indeks+2,arr) and structureCheck(indeks+3,arr) and structureCheck(indeks+4,arr) \n",
    "        and structureCheck(indeks+5,arr) and structureCheck(indeks+6,arr) and structureCheck(indeks+7,arr) and structureCheck(indeks+8,arr) \n",
    "        and structureCheck(indeks+9,arr) \n",
    "        and cdStructureCheck(indeks+10,arr)):\n",
    "        return arr[0][indeks+10][0]\n",
    "    elif(indeks-12>=0 \n",
    "        and structureCheck(indeks-1,arr) and structureCheck(indeks-2,arr) and structureCheck(indeks-3,arr) and structureCheck(indeks-4,arr) \n",
    "        and structureCheck(indeks-5,arr) and structureCheck(indeks-6,arr) and structureCheck(indeks-7,arr) and structureCheck(indeks-8,arr) \n",
    "        and structureCheck(indeks-9,arr) and structureCheck(indeks-10,arr) \n",
    "        and cdStructureCheck(indeks-11,arr) and cdStructureCheck(indeks-12,arr)):\n",
    "        return (arr[0][indeks-12][0] + ' ' + arr[0][indeks-11][0])\n",
    "    elif(indeks+12<=len(arr[0])-1 \n",
    "        and structureCheck(indeks+1,arr) and structureCheck(indeks+2,arr) and structureCheck(indeks+3,arr) and structureCheck(indeks+4,arr) \n",
    "        and structureCheck(indeks+5,arr) and structureCheck(indeks+6,arr) and structureCheck(indeks+7,arr) and structureCheck(indeks+8,arr) \n",
    "        and structureCheck(indeks+9,arr) and structureCheck(indeks+10,arr) \n",
    "        and cdStructureCheck(indeks+11,arr) and cdStructureCheck(indeks+12,arr)):\n",
    "        return (arr[0][indeks+11][0] + ' ' + arr[0][indeks+12][0])\n",
    "    elif(indeks-11>=0 \n",
    "        and structureCheck(indeks-1,arr) and structureCheck(indeks-2,arr) and structureCheck(indeks-3,arr) and structureCheck(indeks-4,arr) \n",
    "        and structureCheck(indeks-5,arr) and structureCheck(indeks-6,arr) and structureCheck(indeks-7,arr) and structureCheck(indeks-8,arr) \n",
    "        and structureCheck(indeks-9,arr) and structureCheck(indeks-10,arr) \n",
    "        and cdStructureCheck(indeks-11,arr)):\n",
    "        return arr[0][indeks-11][0]\n",
    "    elif(indeks+11<=len(arr[0])-1 \n",
    "        and structureCheck(indeks+1,arr) and structureCheck(indeks+2,arr) and structureCheck(indeks+3,arr) and structureCheck(indeks+4,arr) \n",
    "        and structureCheck(indeks+5,arr) and structureCheck(indeks+6,arr) and structureCheck(indeks+7,arr) and structureCheck(indeks+8,arr) \n",
    "        and structureCheck(indeks+9,arr) and structureCheck(indeks+10,arr) \n",
    "        and cdStructureCheck(indeks+11,arr)):\n",
    "        return arr[0][indeks+11][0]\n",
    "    elif(indeks-13>=0 \n",
    "        and structureCheck(indeks-1,arr) and structureCheck(indeks-2,arr) and structureCheck(indeks-3,arr) and structureCheck(indeks-4,arr) \n",
    "        and structureCheck(indeks-5,arr) and structureCheck(indeks-6,arr) and structureCheck(indeks-7,arr) and structureCheck(indeks-8,arr) \n",
    "        and structureCheck(indeks-9,arr) and structureCheck(indeks-10,arr) and structureCheck(indeks-11,arr) \n",
    "        and cdStructureCheck(indeks-12,arr) and cdStructureCheck(indeks-13,arr)):\n",
    "        return (arr[0][indeks-13][0] + ' ' + arr[0][indeks-12][0])\n",
    "    elif(indeks+13<=len(arr[0])-1 \n",
    "        and structureCheck(indeks+1,arr) and structureCheck(indeks+2,arr) and structureCheck(indeks+3,arr) and structureCheck(indeks+4,arr) \n",
    "        and structureCheck(indeks+5,arr) and structureCheck(indeks+6,arr) and structureCheck(indeks+7,arr) and structureCheck(indeks+8,arr) \n",
    "        and structureCheck(indeks+9,arr) and structureCheck(indeks+10,arr) and structureCheck(indeks+11,arr) \n",
    "        and cdStructureCheck(indeks+12,arr) and cdStructureCheck(indeks+13,arr)):\n",
    "        return (arr[0][indeks+12][0] + ' ' + arr[0][indeks+13][0])\n",
    "    elif(indeks-12>=0 \n",
    "        and structureCheck(indeks-1,arr) and structureCheck(indeks-2,arr) and structureCheck(indeks-3,arr) and structureCheck(indeks-4,arr) \n",
    "        and structureCheck(indeks-5,arr) and structureCheck(indeks-6,arr) and structureCheck(indeks-7,arr) and structureCheck(indeks-8,arr) \n",
    "        and structureCheck(indeks-9,arr) and structureCheck(indeks-10,arr) and structureCheck(indeks-11,arr) \n",
    "        and cdStructureCheck(indeks-12,arr)):\n",
    "        return arr[0][indeks-12][0]\n",
    "    elif(indeks+12<=len(arr[0])-1 \n",
    "        and structureCheck(indeks+1,arr) and structureCheck(indeks+2,arr) and structureCheck(indeks+3,arr) and structureCheck(indeks+4,arr) \n",
    "        and structureCheck(indeks+5,arr) and structureCheck(indeks+6,arr) and structureCheck(indeks+7,arr) and structureCheck(indeks+8,arr) \n",
    "        and structureCheck(indeks+9,arr) and structureCheck(indeks+10,arr) and structureCheck(indeks+11,arr) \n",
    "        and cdStructureCheck(indeks+12,arr)):\n",
    "        return arr[0][indeks+12][0]\n",
    "    elif(indeks-14>=0 \n",
    "        and structureCheck(indeks-1,arr) and structureCheck(indeks-2,arr) and structureCheck(indeks-3,arr) and structureCheck(indeks-4,arr) \n",
    "        and structureCheck(indeks-5,arr) and structureCheck(indeks-6,arr) and structureCheck(indeks-7,arr) and structureCheck(indeks-8,arr) \n",
    "        and structureCheck(indeks-9,arr) and structureCheck(indeks-10,arr) and structureCheck(indeks-11,arr) and structureCheck(indeks-12,arr) \n",
    "        and cdStructureCheck(indeks-13,arr) and cdStructureCheck(indeks-14,arr)):\n",
    "        return (arr[0][indeks-14][0] + ' ' + arr[0][indeks-13][0])\n",
    "    elif(indeks+14<=len(arr[0])-1 \n",
    "        and structureCheck(indeks+1,arr) and structureCheck(indeks+2,arr) and structureCheck(indeks+3,arr) and structureCheck(indeks+4,arr) \n",
    "        and structureCheck(indeks+5,arr) and structureCheck(indeks+6,arr) and structureCheck(indeks+7,arr) and structureCheck(indeks+8,arr) \n",
    "        and structureCheck(indeks+9,arr) and structureCheck(indeks+10,arr) and structureCheck(indeks+11,arr) and structureCheck(indeks+12,arr) \n",
    "        and cdStructureCheck(indeks+13,arr) and cdStructureCheck(indeks+14,arr)):\n",
    "        return (arr[0][indeks+13][0] + ' ' + arr[0][indeks+14][0])\n",
    "    elif(indeks-13>=0 \n",
    "        and structureCheck(indeks-1,arr) and structureCheck(indeks-2,arr) and structureCheck(indeks-3,arr) and structureCheck(indeks-4,arr) \n",
    "        and structureCheck(indeks-5,arr) and structureCheck(indeks-6,arr) and structureCheck(indeks-7,arr) and structureCheck(indeks-8,arr) \n",
    "        and structureCheck(indeks-9,arr) and structureCheck(indeks-10,arr) and structureCheck(indeks-11,arr) and structureCheck(indeks-12,arr) \n",
    "        and cdStructureCheck(indeks-13,arr)):\n",
    "        return arr[0][indeks-13][0]\n",
    "    elif(indeks+13<=len(arr[0])-1 \n",
    "        and structureCheck(indeks+1,arr) and structureCheck(indeks+2,arr) and structureCheck(indeks+3,arr) and structureCheck(indeks+4,arr) \n",
    "        and structureCheck(indeks+5,arr) and structureCheck(indeks+6,arr) and structureCheck(indeks+7,arr) and structureCheck(indeks+8,arr) \n",
    "        and structureCheck(indeks+9,arr) and structureCheck(indeks+10,arr) and structureCheck(indeks+11,arr) and structureCheck(indeks+12,arr) \n",
    "        and cdStructureCheck(indeks+13,arr)):\n",
    "        return arr[0][indeks+13][0]\n",
    "    elif(indeks-15>=0 \n",
    "        and structureCheck(indeks-1,arr) and structureCheck(indeks-2,arr) and structureCheck(indeks-3,arr) and structureCheck(indeks-4,arr) \n",
    "        and structureCheck(indeks-5,arr) and structureCheck(indeks-6,arr) and structureCheck(indeks-7,arr) and structureCheck(indeks-8,arr) \n",
    "        and structureCheck(indeks-9,arr) and structureCheck(indeks-10,arr) and structureCheck(indeks-11,arr) and structureCheck(indeks-12,arr) \n",
    "        and structureCheck(indeks-13,arr) \n",
    "        and cdStructureCheck(indeks-14,arr) and cdStructureCheck(indeks-15,arr)):\n",
    "        return (arr[0][indeks-15][0] + ' ' + arr[0][indeks-14][0])\n",
    "    elif(indeks+15<=len(arr[0])-1 \n",
    "        and structureCheck(indeks+1,arr) and structureCheck(indeks+2,arr) and structureCheck(indeks+3,arr) and structureCheck(indeks+4,arr) \n",
    "        and structureCheck(indeks+5,arr) and structureCheck(indeks+6,arr) and structureCheck(indeks+7,arr) and structureCheck(indeks+8,arr) \n",
    "        and structureCheck(indeks+9,arr) and structureCheck(indeks+10,arr) and structureCheck(indeks+11,arr) and structureCheck(indeks+12,arr) \n",
    "        and structureCheck(indeks+13,arr) \n",
    "        and cdStructureCheck(indeks+14,arr) and cdStructureCheck(indeks+15,arr)):\n",
    "        return (arr[0][indeks+14][0] + ' ' + arr[0][indeks+15][0])\n",
    "    elif(indeks-14>=0 \n",
    "        and structureCheck(indeks-1,arr) and structureCheck(indeks-2,arr) and structureCheck(indeks-3,arr) and structureCheck(indeks-4,arr) \n",
    "        and structureCheck(indeks-5,arr) and structureCheck(indeks-6,arr) and structureCheck(indeks-7,arr) and structureCheck(indeks-8,arr) \n",
    "        and structureCheck(indeks-9,arr) and structureCheck(indeks-10,arr) and structureCheck(indeks-11,arr) and structureCheck(indeks-12,arr) \n",
    "        and structureCheck(indeks-13,arr) \n",
    "        and cdStructureCheck(indeks-14,arr)):\n",
    "        return arr[0][indeks-14][0]\n",
    "    elif(indeks+14<=len(arr[0])-1 \n",
    "        and structureCheck(indeks+1,arr) and structureCheck(indeks+2,arr) and structureCheck(indeks+3,arr) and structureCheck(indeks+4,arr) \n",
    "        and structureCheck(indeks+5,arr) and structureCheck(indeks+6,arr) and structureCheck(indeks+7,arr) and structureCheck(indeks+8,arr) \n",
    "        and structureCheck(indeks+9,arr) and structureCheck(indeks+10,arr) and structureCheck(indeks+11,arr) and structureCheck(indeks+12,arr) \n",
    "        and structureCheck(indeks+13,arr) \n",
    "        and cdStructureCheck(indeks+14,arr)):\n",
    "        return arr[0][indeks+14][0]\n",
    "    elif(indeks-15>=0 \n",
    "        and structureCheck(indeks-1,arr) and structureCheck(indeks-2,arr) and structureCheck(indeks-3,arr) and structureCheck(indeks-4,arr) \n",
    "        and structureCheck(indeks-5,arr) and structureCheck(indeks-6,arr) and structureCheck(indeks-7,arr) and structureCheck(indeks-8,arr) \n",
    "        and structureCheck(indeks-9,arr) and structureCheck(indeks-10,arr) and structureCheck(indeks-11,arr) and structureCheck(indeks-12,arr) \n",
    "        and structureCheck(indeks-13,arr) and structureCheck(indeks-14,arr) \n",
    "        and cdStructureCheck(indeks-15,arr)):\n",
    "        return arr[0][indeks-15][0]\n",
    "    elif(indeks+15<=len(arr[0])-1 \n",
    "        and structureCheck(indeks+1,arr) and structureCheck(indeks+2,arr) and structureCheck(indeks+3,arr) and structureCheck(indeks+4,arr) \n",
    "        and structureCheck(indeks+5,arr) and structureCheck(indeks+6,arr) and structureCheck(indeks+7,arr) and structureCheck(indeks+8,arr) \n",
    "        and structureCheck(indeks+9,arr) and structureCheck(indeks+10,arr) and structureCheck(indeks+11,arr) and structureCheck(indeks+12,arr) \n",
    "        and structureCheck(indeks+13,arr) and structureCheck(indeks+14,arr) \n",
    "        and cdStructureCheck(indeks+15,arr)):\n",
    "        return arr[0][indeks+15][0]\n",
    "    else:\n",
    "        return 1"
   ]
  },
  {
   "cell_type": "code",
   "execution_count": 16,
   "metadata": {},
   "outputs": [],
   "source": [
    "def isfloat(num):\n",
    "    try:\n",
    "        float(num)\n",
    "        return True\n",
    "    except ValueError:\n",
    "        return False"
   ]
  },
  {
   "cell_type": "code",
   "execution_count": 17,
   "metadata": {},
   "outputs": [],
   "source": [
    "def convertTeks(string):\n",
    "    string = string.lower()\n",
    "    string = string.split()\n",
    "    string = [x.replace(',','.') for x in string]\n",
    "    \n",
    "    arr = []\n",
    "\n",
    "    if(len(string)==2 and isfloat(string[0])==True  and string[1]=='juta'):\n",
    "        hasil=\"{:.0f}\".format(float(string[0])*1000000)\n",
    "        arr.append(hasil)\n",
    "    elif(len(string)==2 and isfloat(string[0])==True  and string[1]=='ribu'):\n",
    "        hasil=\"{:.0f}\".format(float(string[0])*1000)\n",
    "        arr.append(hasil)\n",
    "    elif(len(string)==2 and isfloat(string[0])==True  and string[1]=='miliar'):\n",
    "        hasil=\"{:.0f}\".format(float(string[0])*1000000000)\n",
    "        arr.append(hasil)\n",
    "    elif(len(string)==2 and isfloat(string[0])==True  and string[1]=='triliun'):\n",
    "        hasil=\"{:.0f}\".format(float(string[0])*1000000000000)\n",
    "        arr.append(hasil)\n",
    "    else:\n",
    "        for teks in string:\n",
    "            # print(teks, type(teks))\n",
    "            if(teks[-1:]=='%' and (teks[:-1].isdigit() or isfloat(teks[:-1])==True)):\n",
    "                arr.append(str(teks))\n",
    "            elif(len(teks)==5 and teks[2]=='.' and isfloat(teks)==True):\n",
    "                arr.append(str(1))\n",
    "            elif(len(teks)>=5 and teks[-4]=='.' and isfloat(teks)==True):\n",
    "                teks=teks.replace('.','')\n",
    "                arr.append(teks)\n",
    "            elif(teks==\"2010\" or teks==\"2011\" or teks==\"2012\" or teks==\"2013\" or teks==\"2014\" or teks==\"2015\" or teks==\"2016\" or teks==\"2017\" or teks==\"2018\" or teks==\"2019\" or teks==\"2020\" or teks==\"2021\" or teks==\"2022\"):\n",
    "                arr.append(str(1))\n",
    "            elif(isfloat(teks)==True):\n",
    "                arr.append(teks)\n",
    "            elif(teks==\"satu\" or teks==\"seorang\" or teks==\"seseorang\" or teks==\"sesosok\" or teks==\"sang\" or teks==\"sedikit\" or teks==\"suatu\" or teks=='pertama' or teks=='sebagian' or teks=='paruh'):\n",
    "                arr.append(str(1))\n",
    "            elif(teks==\"dua\" or teks==\"kedua\" or teks==\"keduanya\" or teks==\"pasangan\" or teks=='ke-2'):\n",
    "                arr.append(str(2))\n",
    "            elif(teks==\"tiga\" or teks==\"ketiga\" or teks=='ke-3'):\n",
    "                arr.append(str(3))\n",
    "            elif(teks==\"empat\" or teks==\"keempat\" or teks=='ke-4'):\n",
    "                arr.append(str(4))\n",
    "            elif(teks==\"lima\" or teks==\"kelima\" or teks=='ke-5'):\n",
    "                arr.append(str(5))\n",
    "            elif(teks==\"enam\"  or teks==\"keenam\" or teks=='ke-6'):\n",
    "                arr.append(str(6))\n",
    "            elif(teks==\"tujuh\"  or teks==\"ketujuh\" or teks=='ke-7'):\n",
    "                arr.append(str(7))\n",
    "            elif(teks==\"delapan\"  or teks==\"kedelapan\" or teks=='ke-8'):\n",
    "                arr.append(str(8))\n",
    "            elif(teks==\"sembilan\"  or teks==\"kesembilan\" or teks=='ke-9'):\n",
    "                arr.append(str(9))\n",
    "            elif(teks==\"sepuluh\"  or teks==\"kesepuluh\" or teks==\"puluhan\" or teks=='ke-10'):\n",
    "                arr.append(str(10))\n",
    "            elif(teks==\"salah\" or teks==\"sebanyak\" or teks==\"akibatnya\"):\n",
    "                arr.append('')\n",
    "            elif(teks==\"persen\"):\n",
    "                arr.append('%')\n",
    "            elif(teks==\"belasan\"):\n",
    "                arr.append(str(11))\n",
    "\n",
    "            #Banyak yang di bawah ini tergantung topik masing2\n",
    "            elif(teks==\"semua\"):\n",
    "                arr.append(str(random.randint(1,5)))\n",
    "            elif(teks==\"sejumlah\"):\n",
    "                arr.append(str(random.randint(6,10)))\n",
    "            elif(teks==\"seluruh\"):\n",
    "                arr.append(str(random.randint(6,15)))\n",
    "            elif(teks==\"beberapa\"):\n",
    "                arr.append(str(random.randint(1,5)))\n",
    "            elif(teks==\"banyak\"):\n",
    "                arr.append(str(random.randint(1,5)))\n",
    "            elif(teks==\"puluh\"):\n",
    "                arr.append(str(0))\n",
    "            elif(teks==\"ratus\"):\n",
    "                arr.append(str(00))\n",
    "            elif(teks==\"ratusan\"):\n",
    "                arr.append(str(100))\n",
    "            elif(teks==\"ribuan\"):\n",
    "                arr.append(str(1000))\n",
    "            elif(teks==\"ribu\"):\n",
    "                arr.append(str(000))\n",
    "            elif(teks==\"jutaan\"):\n",
    "                arr.append(str(1000000))\n",
    "            elif(teks==\"juta\"):\n",
    "                arr.append(str(000000))\n",
    "            elif(teks==\"miliar\"):\n",
    "                arr.append(str(000000000))\n",
    "            elif(teks==\"miliaran\"):\n",
    "                arr.append(str(1000000000))\n",
    "            elif(teks==\"triliun\"):\n",
    "                arr.append(str(000000000000))\n",
    "            elif(teks==\"triliunan\"):\n",
    "                arr.append(str(1000000000000))\n",
    "            else:\n",
    "                arr.append(str(1))\n",
    "\n",
    "    hasil=\"\".join(arr)\n",
    "\n",
    "    if(hasil[-1:]=='%' and (hasil[:-1].isdigit() or isfloat(hasil[:-1])==True)):\n",
    "        hasil=float(hasil[:-1])/100\n",
    "        arr.append(str(hasil))\n",
    "\n",
    "    return(hasil)"
   ]
  },
  {
   "cell_type": "code",
   "execution_count": 18,
   "metadata": {},
   "outputs": [],
   "source": [
    "def indeksKe(arr,indikator):\n",
    "    for x in range(0, len(arr[0])):\n",
    "        for y in indikator:\n",
    "            y=y.split()\n",
    "            if(len(y)==1 and arr[0][x][0]==y[0]):\n",
    "                return x\n",
    "            elif(len(y)==2 and len(arr[0])>x and arr[0][x][0]==y[0] and arr[0][x+1][0]==y[1]):\n",
    "                return x\n",
    "    return -1"
   ]
  },
  {
   "cell_type": "code",
   "execution_count": 19,
   "metadata": {},
   "outputs": [],
   "source": [
    "def whatCalculation(index):\n",
    "    document_result=[]\n",
    "    document_result_what=[]\n",
    "    # document_result_provinsi=[]\n",
    "    \n",
    "    tfidf_vectorizer = joblib.load('model/QE/vectorizer.pkl')\n",
    "   \n",
    "    hasilWhat=[]\n",
    "    trueWhat=[]\n",
    "\n",
    "    corpus_teks1=preprocessingCorpus(df_test.iloc[index,-2])\n",
    "    corpus_teks = (' '.join(corpus_teks1)) \n",
    "    tfidf_matrix = tfidf_vectorizer.fit_transform([corpus_teks])\n",
    "\n",
    "    query_vec_What= tfidf_vectorizer.transform(kandidatFixWhat)\n",
    "    results_what=cosine_similarity(tfidf_matrix, query_vec_What).reshape((-1))\n",
    "    # document_result_what.append(corpus_teks)\n",
    "    for a in kueriFixWithDelimiter_What:\n",
    "        cariW = re.findall(a,corpus_teks)\n",
    "        #print(cariW)\n",
    "        if cariW:\n",
    "            hasilWhat.append(a)\n",
    "    \n",
    "    for x in hasilWhat:\n",
    "        if((x=='kecelakaan' or x=='tertabrak' or x=='tabrakan' or x=='menabrak' or x=='pesawat jatuh' or x=='kapal' or x=='tenggelam' or x=='terbalik' or x=='kereta api' or x=='pesawat' or x=='terjatuh')and x not in trueWhat):\n",
    "            trueWhat.append(x)\n",
    "    \n",
    "    return(trueWhat,hasilWhat)\n",
    "   "
   ]
  },
  {
   "cell_type": "code",
   "execution_count": 20,
   "metadata": {},
   "outputs": [],
   "source": [
    "def getKeparahan(indeks):\n",
    "\n",
    "    D_Tree = joblib.load(\"model/D_tree/d_tree.pkl\")\n",
    "    arr =[]\n",
    "    keparahan_teks =preprocessingKeparahan(df_test.iloc[indeks,-2])\n",
    "    arr.append(keparahan_teks)\n",
    "    tag_keparahan = ct.tag_sents(arr)\n",
    "\n",
    "    #kalau buat yang seperti di bawah ini satu jangan lupa buat if else kayak di bawah\n",
    "    death_indeks= indeksKe(tag_keparahan,['meninggal','mati','tewas','meregang nyawa','menewaskan','merenggut','jenazah','Jenazah','terlindas','Terlindas','Merenggut','Meninggal','Mati','Tewas','Meregang','Menewaskan']) #kematian #terseret #nyawa #,'jiwa' Merenggut\n",
    "    injury_indeks= indeksKe(tag_keparahan,['luka-luka','luka','melukai','terluka','kritis','Luka-luka','Luka','Melukai','Terluka','Kritis','perawatan','Perawatan']) #dirawat\n",
    "    lost_indeks= indeksKe(tag_keparahan,['hilang','Hilang'])\n",
    "    sink_indeks=indeksKe(tag_keparahan,['tenggelam','tenggelamnya'])\n",
    "    plane_indeks=indeksKe(tag_keparahan,['pesawat'])\n",
    "    #kerugian\n",
    "\n",
    "    if(death_indeks==-1):\n",
    "        mati = 0\n",
    "    else:\n",
    "        mati = struktur1(tag_keparahan,death_indeks)\n",
    "        if(isinstance(mati, str)):\n",
    "            mati=convertTeks(mati)\n",
    "\n",
    "    if(injury_indeks==-1):\n",
    "        luka = 0\n",
    "    else:\n",
    "        luka = struktur1(tag_keparahan,injury_indeks)\n",
    "        if(isinstance(luka, str)):\n",
    "            luka=convertTeks(luka)\n",
    "\n",
    "    if(lost_indeks==-1):\n",
    "        hilang = 0\n",
    "    else:\n",
    "        hilang = struktur1(tag_keparahan,lost_indeks)\n",
    "        if(isinstance(hilang, str)):\n",
    "            hilang=convertTeks(hilang)\n",
    "\n",
    "\n",
    "    if(sink_indeks==-1):\n",
    "        tenggelam = 0\n",
    "    else:\n",
    "        tenggelam = struktur1(tag_keparahan,sink_indeks)\n",
    "        if(isinstance(tenggelam, str)):\n",
    "            tenggelam=convertTeks(tenggelam)\n",
    "\n",
    "    if(plane_indeks==-1):\n",
    "        pesawat = 0\n",
    "    else:\n",
    "        pesawat = 1\n",
    "    \n",
    "    keparahan = D_Tree.predict([[mati,luka,hilang,tenggelam,pesawat]])\n",
    "    if(keparahan[0]==0):\n",
    "        keparahan=\"parah\"\n",
    "    elif(keparahan[0]==1):\n",
    "        keparahan=\"rendah\"\n",
    "    elif(keparahan[0]==2):\n",
    "        keparahan=\"sedang\"\n",
    "    \n",
    "    # print(mati,luka,hilang,tenggelam,pesawat)\n",
    "    return(mati,luka,hilang,tenggelam,pesawat,keparahan)\n"
   ]
  },
  {
   "cell_type": "markdown",
   "metadata": {},
   "source": [
    "# NER"
   ]
  },
  {
   "cell_type": "code",
   "execution_count": 21,
   "metadata": {},
   "outputs": [],
   "source": [
    "def compareToDatasetLocation(provinsi,kabupaten,kecamatan):\n",
    "      trueLocation= checkLocation(provinsi,kabupaten,kecamatan)\n",
    "      if(len(trueLocation)==3):\n",
    "            for i in range(0,len(kodePos)):\n",
    "                  if(kodePos[i][0]==trueLocation[2] and kodePos[i][1]==trueLocation[1] and kodePos[i][2]==trueLocation[0]):\n",
    "                        return trueLocation\n",
    "                  \n",
    "            trueLocation.insert(0,'-')\n",
    "            trueLocation.insert(1,'-')\n",
    "            trueLocation.insert(2,'-')\n",
    "            return trueLocation\n",
    "\n",
    "      elif(len(trueLocation)==2):\n",
    "            for i in range(0,len(kodePos)):\n",
    "                  if(kodePos[i][0]==trueLocation[1] and kodePos[i][1]==trueLocation[0]):\n",
    "                        trueLocation.insert(0,'-')\n",
    "                        return trueLocation\n",
    "                  elif(kodePos[i][1]==trueLocation[1] and kodePos[i][2]==trueLocation[0]):\n",
    "                        trueLocation.insert(2,'-')\n",
    "                        return trueLocation\n",
    "                  elif(kodePos[i][0]==trueLocation[1] and kodePos[i][2]==trueLocation[0]):\n",
    "                        trueLocation.insert(1,'-')\n",
    "                        return trueLocation\n",
    "      \n",
    "            trueLocation.insert(0,'-')\n",
    "            trueLocation.insert(1,'-')\n",
    "            trueLocation.insert(2,'-')\n",
    "            return trueLocation\n",
    "\n",
    "      elif(len(trueLocation)==1):\n",
    "            for i in range(0,len(kodePos)):\n",
    "                  if(kodePos[i][0]==trueLocation[0] ):\n",
    "                        trueLocation.insert(0,'-')\n",
    "                        trueLocation.insert(1,'-')\n",
    "                        return trueLocation\n",
    "                  elif(kodePos[i][1]==trueLocation[0] ):\n",
    "                        trueLocation.insert(0,'-')\n",
    "                        trueLocation.insert(2,'-')\n",
    "                        return trueLocation\n",
    "                  elif(kodePos[i][2]==trueLocation[0] ):\n",
    "                        trueLocation.insert(1,'-')\n",
    "                        trueLocation.insert(2,'-')\n",
    "                        return trueLocation\n",
    "      \n",
    "            trueLocation.insert(0,'-')\n",
    "            trueLocation.insert(1,'-')\n",
    "            trueLocation.insert(2,'-')\n",
    "            return trueLocation\n",
    "            \n",
    "      else:\n",
    "            trueLocation.insert(0,'-')\n",
    "            trueLocation.insert(1,'-')\n",
    "            trueLocation.insert(2,'-')\n",
    "            return trueLocation\n"
   ]
  },
  {
   "cell_type": "code",
   "execution_count": 22,
   "metadata": {},
   "outputs": [],
   "source": [
    "def checkLocation(provinsi,kabupaten,kecamatan):\n",
    "    hasil=[]\n",
    "    if(len(provinsi)>0 and len(kabupaten)>0 and len(kecamatan)>0):\n",
    "        provinsi_top=provinsi[0]\n",
    "        kabupaten_top=kabupaten[0]\n",
    "        kecamatan_top=kecamatan[0]\n",
    "        if(kecamatan_top[1]<kabupaten_top[1]<provinsi_top[1]):\n",
    "            if(kabupaten_top[1]-kecamatan_top[2]<=60 and provinsi_top[1]-kabupaten_top[2]<=60):\n",
    "                hasil.append(kecamatan_top[0])\n",
    "                hasil.append(kabupaten_top[0])\n",
    "                hasil.append(provinsi_top[0])\n",
    "            elif(kabupaten_top[1]-kecamatan_top[2]<=60 and provinsi_top[1]-kabupaten_top[2]>60):\n",
    "                hasil.append(kecamatan_top[0])\n",
    "                hasil.append(kabupaten_top[0])\n",
    "            elif(kabupaten_top[1]-kecamatan_top[2]>60 and provinsi_top[1]-kabupaten_top[2]>60):\n",
    "                hasil.append((kecamatan_top[0]))\n",
    "        elif((kecamatan_top[1]<kabupaten_top[1])and(kabupaten_top[1]>provinsi_top[1])and(kecamatan_top[1]<provinsi_top[1])):\n",
    "            if(provinsi_top[1]-kecamatan_top[2]<=60):\n",
    "                hasil.append(kecamatan_top[0])\n",
    "                hasil.append(provinsi_top[0])\n",
    "            elif(provinsi_top[1]-kecamatan_top[2]>60):\n",
    "                hasil.append(kecamatan_top[0])\n",
    "        elif((kecamatan_top[1]>kabupaten_top[1])and(kabupaten_top[1]<provinsi_top[1])and(kecamatan_top[1]>provinsi_top[1])):\n",
    "            if(provinsi_top[1]-kabupaten_top[2]<=60):\n",
    "                hasil.append(kabupaten_top[0])\n",
    "                hasil.append(provinsi_top[0])\n",
    "            elif(provinsi_top[1]-kabupaten_top[2]>60):\n",
    "                hasil.append((kabupaten_top[0]))\n",
    "        elif((kecamatan_top[1]>kabupaten_top[1])and(kabupaten_top[1]<provinsi_top[1])and(kecamatan_top[1]<provinsi_top[1])):\n",
    "            hasil.append(kabupaten_top[0])\n",
    "        elif((kecamatan_top[1]<kabupaten_top[1])and(kabupaten_top[1]>provinsi_top[1])and(kecamatan_top[1]>provinsi_top[1])):\n",
    "            hasil.append(provinsi_top[0])\n",
    "        elif(kecamatan_top[1]>kabupaten_top[1]>provinsi_top[1]):\n",
    "            hasil.append(provinsi_top[0])\n",
    "    elif(len(provinsi)>0 and len(kabupaten)>0 and len(kecamatan)==0):\n",
    "        provinsi_top=provinsi[0]\n",
    "        kabupaten_top=kabupaten[0]\n",
    "        if(kabupaten_top[1]<provinsi_top[1]):\n",
    "            if(provinsi_top[1]-kabupaten_top[2]<=60):\n",
    "                hasil.append(kabupaten_top[0])\n",
    "                hasil.append(provinsi_top[0])\n",
    "            else:\n",
    "                hasil.append(kabupaten_top[0])\n",
    "        elif(kabupaten_top[1]>provinsi_top[1]):\n",
    "            hasil.append(provinsi_top[0])\n",
    "    elif(len(provinsi)>0 and len(kabupaten)==0 and len(kecamatan)>0):\n",
    "        provinsi_top=provinsi[0]\n",
    "        kecamatan_top=kecamatan[0]\n",
    "        if(kecamatan_top[1]<provinsi_top[1]):\n",
    "            if(provinsi_top[1]-kecamatan_top[2]<=60):\n",
    "                hasil.append(kecamatan_top[0])\n",
    "                hasil.append(provinsi_top[0])\n",
    "            else:\n",
    "                hasil.append(kecamatan_top[0])\n",
    "        elif(kecamatan_top[1]>provinsi_top[1]):\n",
    "            hasil.append(provinsi_top[0])\n",
    "    elif(len(provinsi)==0 and len(kabupaten)>0 and len(kecamatan)>0):\n",
    "        kabupaten_top=kabupaten[0]\n",
    "        kecamatan_top=kecamatan[0]\n",
    "        if(kecamatan_top[1]<kabupaten_top[1]):\n",
    "            if(kabupaten_top[1]-kecamatan_top[2]<=60):\n",
    "                hasil.append(kecamatan_top[0])\n",
    "                hasil.append(kabupaten_top[0])\n",
    "            else:\n",
    "                hasil.append(kecamatan_top[0])\n",
    "        elif(kecamatan_top[1]>kabupaten_top[1]):\n",
    "            hasil.append(kabupaten_top[0])\n",
    "    elif(len(provinsi)>0 and len(kabupaten)==0 and len(kecamatan)==0):\n",
    "        hasil.append(provinsi[0][0])\n",
    "    elif(len(provinsi)==0 and len(kabupaten)>0 and len(kecamatan)==0):\n",
    "        hasil.append(kabupaten[0][0])\n",
    "    elif(len(provinsi)==0 and len(kabupaten)==0 and len(kecamatan)>0):\n",
    "        hasil.append(kecamatan[0][0])\n",
    "    elif(len(provinsi)==0 and len(kabupaten)==0 and len(kecamatan)==0):\n",
    "        return hasil\n",
    "    \n",
    "    return hasil\n",
    "\n"
   ]
  },
  {
   "cell_type": "code",
   "execution_count": 23,
   "metadata": {},
   "outputs": [],
   "source": [
    "list_provinsi=joblib.load('model/Where/provinsi.pkl')\n",
    "list_kabupaten=joblib.load('model/Where/kabupaten.pkl')\n",
    "list_kecamatan=joblib.load('model/Where/kecamatan.pkl')\n",
    "kodePos = joblib.load('model/Where/listProvKabKec.pkl')"
   ]
  },
  {
   "cell_type": "code",
   "execution_count": 24,
   "metadata": {},
   "outputs": [],
   "source": [
    "def getNewsTime(dateTime: str):\n",
    "    month_to_number = {\n",
    "      'jan': '1',\n",
    "      'feb': '2',\n",
    "      'mar': '3',\n",
    "      'apr': '4',\n",
    "      'mei': '5',\n",
    "      'jun': '6',\n",
    "      'jul': '7',\n",
    "      'agu': '8',\n",
    "      'sep': '9',\n",
    "      'okt': '10',\n",
    "      'nov': '11',\n",
    "      'des': '12',\n",
    "    }\n",
    "\n",
    "    splitted_timestamp = dateTime.split()\n",
    "    pre_formatted_time = splitted_timestamp[1] + '/' + month_to_number[splitted_timestamp[2].lower()] + '/' + splitted_timestamp[3]\n",
    "    \n",
    "    return pre_formatted_time"
   ]
  },
  {
   "cell_type": "code",
   "execution_count": 25,
   "metadata": {},
   "outputs": [],
   "source": [
    "def compareDateArray(sortByLength,newsDate):\n",
    "    year = newsDate.split('/')[2]\n",
    "    timestampList = []\n",
    "    \n",
    "    def convertToTimestapms(date):\n",
    "        return int(time.mktime(datetime.datetime.strptime(date, \"%d/%m/%Y\").timetuple()))\n",
    "\n",
    "    for i, tempTime in enumerate(sortByLength):\n",
    "        # Find the content inside parentheses\n",
    "        if(tempTime[-1:]!=')'):\n",
    "            tempTime=tempTime+')'\n",
    "            \n",
    "        currTime = re.search(r'\\((.*?)\\)', tempTime)\n",
    "        \n",
    "        if (currTime != None):\n",
    "            currTime = currTime.group(1)\n",
    "            \n",
    "        currTime = str(currTime)\n",
    "        \n",
    "        if (tempTime.lower() == 'kemarin' or ('kemarin' in tempTime.lower())):\n",
    "            timestampList.append(convertToTimestapms(newsDate) - (24*60*60))\n",
    "        \n",
    "        if (currTime != None):\n",
    "            # Find the year\n",
    "            splitted = currTime.split('/')\n",
    "\n",
    "            formattedDate = None\n",
    "            if (len(splitted) == 3):\n",
    "                if(len(splitted[2])==2):\n",
    "                    splitted[2]=year\n",
    "                    currTime=\"/\".join(splitted)\n",
    "                year = splitted[2]\n",
    "                timestampList.append(convertToTimestapms(currTime))\n",
    "            elif (len(splitted) == 2):\n",
    "                formattedDate = (splitted[0] + '/' + splitted[1] + '/' + year)\n",
    "                timestampList.append(convertToTimestapms(formattedDate))\n",
    "    \n",
    "    return dt.fromtimestamp(sorted(timestampList)[0]).strftime('%d/%m/%Y')"
   ]
  },
  {
   "cell_type": "code",
   "execution_count": 26,
   "metadata": {},
   "outputs": [],
   "source": [
    "def toOriginal(teks):\n",
    "    hasil=''\n",
    "    if(teks=='sulsel'):\n",
    "        hasil='sulawesi selatan'\n",
    "    elif(teks=='sultra'):\n",
    "        hasil='sulawesi tenggara'\n",
    "    elif(teks=='sulut'):\n",
    "        hasil='sulawesi utara'\n",
    "    elif(teks=='sulteng'):\n",
    "        hasil='sulawesi tengah'\n",
    "    elif(teks=='sulbar'):\n",
    "        hasil='sulawesi barat'\n",
    "    elif(teks=='kaltim'):\n",
    "        hasil='kalimantan timur'\n",
    "    elif(teks=='kaltara'):\n",
    "        hasil='kalimantan utara'\n",
    "    elif(teks=='kalteng'):\n",
    "        hasil='kalimantan tengah'\n",
    "    elif(teks=='kalsel'):\n",
    "        hasil='kalimantan selatan'\n",
    "    elif(teks=='kalbar'):\n",
    "        hasil='kalimantan barat'\n",
    "    elif(teks=='jatim'):\n",
    "        hasil='jawa timur'\n",
    "    elif(teks=='jateng'):\n",
    "        hasil='jawa tengah'\n",
    "    elif(teks=='jabar'):\n",
    "        hasil='jawa barat'\n",
    "    elif(teks=='diy'):\n",
    "        hasil='di yogyakarta'\n",
    "    elif(teks=='jakbar'):\n",
    "        hasil='jakarta barat'\n",
    "    elif(teks=='jaktim'):\n",
    "        hasil='jakarta timur'\n",
    "    elif(teks=='jaksel'):\n",
    "        hasil='jakarta selatan'\n",
    "    elif(teks=='jakpus'):\n",
    "        hasil='jakarta pusat'\n",
    "    elif(teks=='jakut'):\n",
    "        hasil='jakarta utara'\n",
    "    elif(teks=='nad'):\n",
    "        hasil='nanggroe aceh darussalam'\n",
    "    elif(teks=='sumsel'):\n",
    "        hasil='sumatera selatan'\n",
    "    elif(teks=='sumut'):\n",
    "        hasil='sumatera utara'\n",
    "    elif(teks=='sumbar'):\n",
    "        hasil='sumatera barat'\n",
    "    else:\n",
    "        hasil=teks\n",
    "    return hasil"
   ]
  },
  {
   "cell_type": "code",
   "execution_count": 27,
   "metadata": {},
   "outputs": [],
   "source": [
    "def getNER(indeks,model):\n",
    "\n",
    "      \n",
    "      news = preprocessingNER(df_test.iloc[indeks, -2])\n",
    "      doc = model(news)\n",
    "\n",
    "      # newsDate = getNewsTime(df_test.iloc[21,1])\n",
    "      newsDate = getNewsTime(df_test.iloc[indeks,1])\n",
    "\n",
    "      provinsi = []\n",
    "      kabupaten = []\n",
    "      kecamatan = []\n",
    "      tanggal = []\n",
    "      orang = []\n",
    "      visited = []\n",
    "\n",
    "      tanggal_asli=''\n",
    "\n",
    "      for ent in doc.ents:\n",
    "            if(ent.label_== 'LOKASI'):\n",
    "                  if(ent.text[-1:]=='.'):\n",
    "                        teks = ent.text[:-1]\n",
    "                        teks = toOriginal(teks)\n",
    "                        if ((teks in list_provinsi) and (teks not in visited)):\n",
    "                              provinsi.append([teks,ent.start_char,ent.end_char])\n",
    "                              visited.append(teks)\n",
    "                        elif ((teks in list_kabupaten) and (teks not in visited)):\n",
    "                              kabupaten.append([teks,ent.start_char,ent.end_char])\n",
    "                              visited.append(teks)\n",
    "                        elif ((teks in list_kecamatan) and (teks not in visited)):\n",
    "                              kecamatan.append([teks,ent.start_char,ent.end_char])\n",
    "                              visited.append(teks)\n",
    "                  else:\n",
    "                        teks = toOriginal(ent.text)\n",
    "                        if ((teks in list_provinsi) and (teks not in visited)):\n",
    "                              provinsi.append([teks,ent.start_char,ent.end_char])\n",
    "                              visited.append(teks)\n",
    "                        elif ((teks in list_kabupaten) and (teks not in visited)):\n",
    "                              kabupaten.append([teks,ent.start_char,ent.end_char])\n",
    "                              visited.append(teks)\n",
    "                        elif ((teks in list_kecamatan) and (teks not in visited)):\n",
    "                              kecamatan.append([teks,ent.start_char,ent.end_char])\n",
    "                              visited.append(teks)\n",
    "            elif(ent.label_== 'TANGGAL'):\n",
    "                  if(ent.text[-1:]=='.'):\n",
    "                        teks = ent.text[:-1]\n",
    "                        if (teks not in visited):\n",
    "                              tanggal.append(teks)\n",
    "                              visited.append(teks)\n",
    "                  else:\n",
    "                        if (ent.text not in visited):\n",
    "                              tanggal.append(ent.text)\n",
    "                              visited.append(ent.text)\n",
    "            elif(ent.label_== 'ORANG'):\n",
    "                  if(ent.text[-1:]=='.'):\n",
    "                        teks = ent.text[:-1]\n",
    "                        if (teks not in visited):\n",
    "                              orang.append(teks)\n",
    "                              visited.append(teks)\n",
    "                  else:\n",
    "                        if (ent.text not in visited):\n",
    "                              orang.append(ent.text)\n",
    "                              visited.append(ent.text)\n",
    "\n",
    "      visited.clear()\n",
    "\n",
    "      sortedTimes = sorted(tanggal, key=len, reverse=True)\n",
    "      # if array is empty return news date\n",
    "      if(len(sortedTimes) == 0):\n",
    "            tanggal_asli=newsDate\n",
    "            # print(newsDate)\n",
    "      # if array not empty and not contain kemarin\n",
    "      elif (len(sortedTimes) >= 1):\n",
    "            tanggal_asli=compareDateArray(sortedTimes,newsDate)\n",
    "            # print(tanggal_asli)\n",
    "            # print(compareDateArray(sortedTimes,newsDate))\n",
    "\n",
    "      lokasi_asli = compareToDatasetLocation(provinsi,kabupaten,kecamatan)\n",
    "\n",
    "      return (orang,tanggal_asli,lokasi_asli[2],lokasi_asli[1],lokasi_asli[0])"
   ]
  },
  {
   "cell_type": "code",
   "execution_count": 31,
   "metadata": {},
   "outputs": [],
   "source": [
    "def cekhasil():\n",
    "    document_result=[]\n",
    "\n",
    "    link_to_model = \"model/NER_Kec_Ben_Krim_Kese_Eko/output/model-last\"\n",
    "    loaded_model = load(link_to_model)\n",
    "    \n",
    "    \n",
    "    for i in range(0, len(df_test)):\n",
    "        print(i)\n",
    "        \n",
    "        trueWhat,hasilWhat = whatCalculation(i)\n",
    "\n",
    "        if(len(trueWhat)>0):\n",
    "            truePos=1\n",
    "        else:\n",
    "            truePos=0\n",
    "\n",
    "        mati,luka,hilang,tenggelam,pesawat,keparahan = getKeparahan(i)\n",
    "\n",
    "        orang,tanggal_asli,provinsi,kabupaten,kecamatan=getNER(i,loaded_model)\n",
    "\n",
    "        data = [i,df_test.iloc[i,0],df_test.iloc[i,1],df_test.iloc[i,2],trueWhat,truePos, hasilWhat,orang,tanggal_asli,provinsi,kabupaten,kecamatan,mati,luka,hilang,tenggelam,pesawat,keparahan]\n",
    "        document_result.append(data)\n",
    "    \n",
    "    writer = pd.DataFrame(document_result, columns=['No Document','title','Date','Description', 'What','TruePos', 'hasilWhat','orang','tanggal_asli','provinsi','kabupaten','kecamatan',\"mati\",'luka','hilang','tenggelam','pesawat','keparahan'])\n",
    "    writer.to_csv('result/QE_Stat_testing_result5.csv', index=False, sep=',')\n",
    "\n"
   ]
  },
  {
   "cell_type": "code",
   "execution_count": 32,
   "metadata": {},
   "outputs": [
    {
     "name": "stdout",
     "output_type": "stream",
     "text": [
      "0\n"
     ]
    },
    {
     "name": "stderr",
     "output_type": "stream",
     "text": [
      "d:\\HERRI\\Tugas Akhir\\pra\\geographical_news_scrapper\\venv\\lib\\site-packages\\sklearn\\base.py:450: UserWarning: X does not have valid feature names, but DecisionTreeClassifier was fitted with feature names\n",
      "  warnings.warn(\n"
     ]
    },
    {
     "name": "stdout",
     "output_type": "stream",
     "text": [
      "1\n",
      "2\n"
     ]
    },
    {
     "name": "stderr",
     "output_type": "stream",
     "text": [
      "d:\\HERRI\\Tugas Akhir\\pra\\geographical_news_scrapper\\venv\\lib\\site-packages\\sklearn\\base.py:450: UserWarning: X does not have valid feature names, but DecisionTreeClassifier was fitted with feature names\n",
      "  warnings.warn(\n",
      "d:\\HERRI\\Tugas Akhir\\pra\\geographical_news_scrapper\\venv\\lib\\site-packages\\sklearn\\base.py:450: UserWarning: X does not have valid feature names, but DecisionTreeClassifier was fitted with feature names\n",
      "  warnings.warn(\n"
     ]
    },
    {
     "name": "stdout",
     "output_type": "stream",
     "text": [
      "3\n",
      "4\n"
     ]
    },
    {
     "name": "stderr",
     "output_type": "stream",
     "text": [
      "d:\\HERRI\\Tugas Akhir\\pra\\geographical_news_scrapper\\venv\\lib\\site-packages\\sklearn\\base.py:450: UserWarning: X does not have valid feature names, but DecisionTreeClassifier was fitted with feature names\n",
      "  warnings.warn(\n",
      "d:\\HERRI\\Tugas Akhir\\pra\\geographical_news_scrapper\\venv\\lib\\site-packages\\sklearn\\base.py:450: UserWarning: X does not have valid feature names, but DecisionTreeClassifier was fitted with feature names\n",
      "  warnings.warn(\n"
     ]
    },
    {
     "name": "stdout",
     "output_type": "stream",
     "text": [
      "5\n",
      "6\n"
     ]
    },
    {
     "name": "stderr",
     "output_type": "stream",
     "text": [
      "d:\\HERRI\\Tugas Akhir\\pra\\geographical_news_scrapper\\venv\\lib\\site-packages\\sklearn\\base.py:450: UserWarning: X does not have valid feature names, but DecisionTreeClassifier was fitted with feature names\n",
      "  warnings.warn(\n",
      "d:\\HERRI\\Tugas Akhir\\pra\\geographical_news_scrapper\\venv\\lib\\site-packages\\sklearn\\base.py:450: UserWarning: X does not have valid feature names, but DecisionTreeClassifier was fitted with feature names\n",
      "  warnings.warn(\n"
     ]
    },
    {
     "name": "stdout",
     "output_type": "stream",
     "text": [
      "7\n",
      "8\n"
     ]
    },
    {
     "name": "stderr",
     "output_type": "stream",
     "text": [
      "d:\\HERRI\\Tugas Akhir\\pra\\geographical_news_scrapper\\venv\\lib\\site-packages\\sklearn\\base.py:450: UserWarning: X does not have valid feature names, but DecisionTreeClassifier was fitted with feature names\n",
      "  warnings.warn(\n",
      "d:\\HERRI\\Tugas Akhir\\pra\\geographical_news_scrapper\\venv\\lib\\site-packages\\sklearn\\base.py:450: UserWarning: X does not have valid feature names, but DecisionTreeClassifier was fitted with feature names\n",
      "  warnings.warn(\n"
     ]
    },
    {
     "name": "stdout",
     "output_type": "stream",
     "text": [
      "9\n",
      "10\n"
     ]
    },
    {
     "name": "stderr",
     "output_type": "stream",
     "text": [
      "d:\\HERRI\\Tugas Akhir\\pra\\geographical_news_scrapper\\venv\\lib\\site-packages\\sklearn\\base.py:450: UserWarning: X does not have valid feature names, but DecisionTreeClassifier was fitted with feature names\n",
      "  warnings.warn(\n",
      "d:\\HERRI\\Tugas Akhir\\pra\\geographical_news_scrapper\\venv\\lib\\site-packages\\sklearn\\base.py:450: UserWarning: X does not have valid feature names, but DecisionTreeClassifier was fitted with feature names\n",
      "  warnings.warn(\n"
     ]
    },
    {
     "name": "stdout",
     "output_type": "stream",
     "text": [
      "11\n",
      "12\n"
     ]
    },
    {
     "name": "stderr",
     "output_type": "stream",
     "text": [
      "d:\\HERRI\\Tugas Akhir\\pra\\geographical_news_scrapper\\venv\\lib\\site-packages\\sklearn\\base.py:450: UserWarning: X does not have valid feature names, but DecisionTreeClassifier was fitted with feature names\n",
      "  warnings.warn(\n",
      "d:\\HERRI\\Tugas Akhir\\pra\\geographical_news_scrapper\\venv\\lib\\site-packages\\sklearn\\base.py:450: UserWarning: X does not have valid feature names, but DecisionTreeClassifier was fitted with feature names\n",
      "  warnings.warn(\n"
     ]
    },
    {
     "name": "stdout",
     "output_type": "stream",
     "text": [
      "13\n",
      "14\n"
     ]
    },
    {
     "name": "stderr",
     "output_type": "stream",
     "text": [
      "d:\\HERRI\\Tugas Akhir\\pra\\geographical_news_scrapper\\venv\\lib\\site-packages\\sklearn\\base.py:450: UserWarning: X does not have valid feature names, but DecisionTreeClassifier was fitted with feature names\n",
      "  warnings.warn(\n",
      "d:\\HERRI\\Tugas Akhir\\pra\\geographical_news_scrapper\\venv\\lib\\site-packages\\sklearn\\base.py:450: UserWarning: X does not have valid feature names, but DecisionTreeClassifier was fitted with feature names\n",
      "  warnings.warn(\n"
     ]
    },
    {
     "name": "stdout",
     "output_type": "stream",
     "text": [
      "15\n",
      "16\n"
     ]
    },
    {
     "name": "stderr",
     "output_type": "stream",
     "text": [
      "d:\\HERRI\\Tugas Akhir\\pra\\geographical_news_scrapper\\venv\\lib\\site-packages\\sklearn\\base.py:450: UserWarning: X does not have valid feature names, but DecisionTreeClassifier was fitted with feature names\n",
      "  warnings.warn(\n",
      "d:\\HERRI\\Tugas Akhir\\pra\\geographical_news_scrapper\\venv\\lib\\site-packages\\sklearn\\base.py:450: UserWarning: X does not have valid feature names, but DecisionTreeClassifier was fitted with feature names\n",
      "  warnings.warn(\n"
     ]
    },
    {
     "name": "stdout",
     "output_type": "stream",
     "text": [
      "17\n",
      "18\n"
     ]
    },
    {
     "name": "stderr",
     "output_type": "stream",
     "text": [
      "d:\\HERRI\\Tugas Akhir\\pra\\geographical_news_scrapper\\venv\\lib\\site-packages\\sklearn\\base.py:450: UserWarning: X does not have valid feature names, but DecisionTreeClassifier was fitted with feature names\n",
      "  warnings.warn(\n",
      "d:\\HERRI\\Tugas Akhir\\pra\\geographical_news_scrapper\\venv\\lib\\site-packages\\sklearn\\base.py:450: UserWarning: X does not have valid feature names, but DecisionTreeClassifier was fitted with feature names\n",
      "  warnings.warn(\n"
     ]
    },
    {
     "name": "stdout",
     "output_type": "stream",
     "text": [
      "19\n",
      "20\n"
     ]
    },
    {
     "name": "stderr",
     "output_type": "stream",
     "text": [
      "d:\\HERRI\\Tugas Akhir\\pra\\geographical_news_scrapper\\venv\\lib\\site-packages\\sklearn\\base.py:450: UserWarning: X does not have valid feature names, but DecisionTreeClassifier was fitted with feature names\n",
      "  warnings.warn(\n",
      "d:\\HERRI\\Tugas Akhir\\pra\\geographical_news_scrapper\\venv\\lib\\site-packages\\sklearn\\base.py:450: UserWarning: X does not have valid feature names, but DecisionTreeClassifier was fitted with feature names\n",
      "  warnings.warn(\n"
     ]
    },
    {
     "name": "stdout",
     "output_type": "stream",
     "text": [
      "21\n",
      "22\n"
     ]
    },
    {
     "name": "stderr",
     "output_type": "stream",
     "text": [
      "d:\\HERRI\\Tugas Akhir\\pra\\geographical_news_scrapper\\venv\\lib\\site-packages\\sklearn\\base.py:450: UserWarning: X does not have valid feature names, but DecisionTreeClassifier was fitted with feature names\n",
      "  warnings.warn(\n",
      "d:\\HERRI\\Tugas Akhir\\pra\\geographical_news_scrapper\\venv\\lib\\site-packages\\sklearn\\base.py:450: UserWarning: X does not have valid feature names, but DecisionTreeClassifier was fitted with feature names\n",
      "  warnings.warn(\n"
     ]
    },
    {
     "name": "stdout",
     "output_type": "stream",
     "text": [
      "23\n",
      "24\n"
     ]
    },
    {
     "name": "stderr",
     "output_type": "stream",
     "text": [
      "d:\\HERRI\\Tugas Akhir\\pra\\geographical_news_scrapper\\venv\\lib\\site-packages\\sklearn\\base.py:450: UserWarning: X does not have valid feature names, but DecisionTreeClassifier was fitted with feature names\n",
      "  warnings.warn(\n",
      "d:\\HERRI\\Tugas Akhir\\pra\\geographical_news_scrapper\\venv\\lib\\site-packages\\sklearn\\base.py:450: UserWarning: X does not have valid feature names, but DecisionTreeClassifier was fitted with feature names\n",
      "  warnings.warn(\n"
     ]
    },
    {
     "name": "stdout",
     "output_type": "stream",
     "text": [
      "25\n",
      "26\n"
     ]
    },
    {
     "name": "stderr",
     "output_type": "stream",
     "text": [
      "d:\\HERRI\\Tugas Akhir\\pra\\geographical_news_scrapper\\venv\\lib\\site-packages\\sklearn\\base.py:450: UserWarning: X does not have valid feature names, but DecisionTreeClassifier was fitted with feature names\n",
      "  warnings.warn(\n",
      "d:\\HERRI\\Tugas Akhir\\pra\\geographical_news_scrapper\\venv\\lib\\site-packages\\sklearn\\base.py:450: UserWarning: X does not have valid feature names, but DecisionTreeClassifier was fitted with feature names\n",
      "  warnings.warn(\n",
      "d:\\HERRI\\Tugas Akhir\\pra\\geographical_news_scrapper\\venv\\lib\\site-packages\\sklearn\\base.py:450: UserWarning: X does not have valid feature names, but DecisionTreeClassifier was fitted with feature names\n",
      "  warnings.warn(\n"
     ]
    },
    {
     "name": "stdout",
     "output_type": "stream",
     "text": [
      "27\n",
      "28\n"
     ]
    },
    {
     "name": "stderr",
     "output_type": "stream",
     "text": [
      "d:\\HERRI\\Tugas Akhir\\pra\\geographical_news_scrapper\\venv\\lib\\site-packages\\sklearn\\base.py:450: UserWarning: X does not have valid feature names, but DecisionTreeClassifier was fitted with feature names\n",
      "  warnings.warn(\n",
      "d:\\HERRI\\Tugas Akhir\\pra\\geographical_news_scrapper\\venv\\lib\\site-packages\\sklearn\\base.py:450: UserWarning: X does not have valid feature names, but DecisionTreeClassifier was fitted with feature names\n",
      "  warnings.warn(\n"
     ]
    },
    {
     "name": "stdout",
     "output_type": "stream",
     "text": [
      "29\n",
      "30\n"
     ]
    },
    {
     "name": "stderr",
     "output_type": "stream",
     "text": [
      "d:\\HERRI\\Tugas Akhir\\pra\\geographical_news_scrapper\\venv\\lib\\site-packages\\sklearn\\base.py:450: UserWarning: X does not have valid feature names, but DecisionTreeClassifier was fitted with feature names\n",
      "  warnings.warn(\n",
      "d:\\HERRI\\Tugas Akhir\\pra\\geographical_news_scrapper\\venv\\lib\\site-packages\\sklearn\\base.py:450: UserWarning: X does not have valid feature names, but DecisionTreeClassifier was fitted with feature names\n",
      "  warnings.warn(\n"
     ]
    },
    {
     "name": "stdout",
     "output_type": "stream",
     "text": [
      "31\n",
      "32\n"
     ]
    },
    {
     "name": "stderr",
     "output_type": "stream",
     "text": [
      "d:\\HERRI\\Tugas Akhir\\pra\\geographical_news_scrapper\\venv\\lib\\site-packages\\sklearn\\base.py:450: UserWarning: X does not have valid feature names, but DecisionTreeClassifier was fitted with feature names\n",
      "  warnings.warn(\n",
      "d:\\HERRI\\Tugas Akhir\\pra\\geographical_news_scrapper\\venv\\lib\\site-packages\\sklearn\\base.py:450: UserWarning: X does not have valid feature names, but DecisionTreeClassifier was fitted with feature names\n",
      "  warnings.warn(\n"
     ]
    },
    {
     "name": "stdout",
     "output_type": "stream",
     "text": [
      "33\n",
      "34\n"
     ]
    },
    {
     "name": "stderr",
     "output_type": "stream",
     "text": [
      "d:\\HERRI\\Tugas Akhir\\pra\\geographical_news_scrapper\\venv\\lib\\site-packages\\sklearn\\base.py:450: UserWarning: X does not have valid feature names, but DecisionTreeClassifier was fitted with feature names\n",
      "  warnings.warn(\n",
      "d:\\HERRI\\Tugas Akhir\\pra\\geographical_news_scrapper\\venv\\lib\\site-packages\\sklearn\\base.py:450: UserWarning: X does not have valid feature names, but DecisionTreeClassifier was fitted with feature names\n",
      "  warnings.warn(\n"
     ]
    },
    {
     "name": "stdout",
     "output_type": "stream",
     "text": [
      "35\n",
      "36\n"
     ]
    },
    {
     "name": "stderr",
     "output_type": "stream",
     "text": [
      "d:\\HERRI\\Tugas Akhir\\pra\\geographical_news_scrapper\\venv\\lib\\site-packages\\sklearn\\base.py:450: UserWarning: X does not have valid feature names, but DecisionTreeClassifier was fitted with feature names\n",
      "  warnings.warn(\n",
      "d:\\HERRI\\Tugas Akhir\\pra\\geographical_news_scrapper\\venv\\lib\\site-packages\\sklearn\\base.py:450: UserWarning: X does not have valid feature names, but DecisionTreeClassifier was fitted with feature names\n",
      "  warnings.warn(\n"
     ]
    },
    {
     "name": "stdout",
     "output_type": "stream",
     "text": [
      "37\n",
      "38\n"
     ]
    },
    {
     "name": "stderr",
     "output_type": "stream",
     "text": [
      "d:\\HERRI\\Tugas Akhir\\pra\\geographical_news_scrapper\\venv\\lib\\site-packages\\sklearn\\base.py:450: UserWarning: X does not have valid feature names, but DecisionTreeClassifier was fitted with feature names\n",
      "  warnings.warn(\n",
      "d:\\HERRI\\Tugas Akhir\\pra\\geographical_news_scrapper\\venv\\lib\\site-packages\\sklearn\\base.py:450: UserWarning: X does not have valid feature names, but DecisionTreeClassifier was fitted with feature names\n",
      "  warnings.warn(\n"
     ]
    },
    {
     "name": "stdout",
     "output_type": "stream",
     "text": [
      "39\n",
      "40\n"
     ]
    },
    {
     "name": "stderr",
     "output_type": "stream",
     "text": [
      "d:\\HERRI\\Tugas Akhir\\pra\\geographical_news_scrapper\\venv\\lib\\site-packages\\sklearn\\base.py:450: UserWarning: X does not have valid feature names, but DecisionTreeClassifier was fitted with feature names\n",
      "  warnings.warn(\n",
      "d:\\HERRI\\Tugas Akhir\\pra\\geographical_news_scrapper\\venv\\lib\\site-packages\\sklearn\\base.py:450: UserWarning: X does not have valid feature names, but DecisionTreeClassifier was fitted with feature names\n",
      "  warnings.warn(\n"
     ]
    },
    {
     "name": "stdout",
     "output_type": "stream",
     "text": [
      "41\n",
      "42\n"
     ]
    },
    {
     "name": "stderr",
     "output_type": "stream",
     "text": [
      "d:\\HERRI\\Tugas Akhir\\pra\\geographical_news_scrapper\\venv\\lib\\site-packages\\sklearn\\base.py:450: UserWarning: X does not have valid feature names, but DecisionTreeClassifier was fitted with feature names\n",
      "  warnings.warn(\n",
      "d:\\HERRI\\Tugas Akhir\\pra\\geographical_news_scrapper\\venv\\lib\\site-packages\\sklearn\\base.py:450: UserWarning: X does not have valid feature names, but DecisionTreeClassifier was fitted with feature names\n",
      "  warnings.warn(\n"
     ]
    },
    {
     "name": "stdout",
     "output_type": "stream",
     "text": [
      "43\n",
      "44\n"
     ]
    },
    {
     "name": "stderr",
     "output_type": "stream",
     "text": [
      "d:\\HERRI\\Tugas Akhir\\pra\\geographical_news_scrapper\\venv\\lib\\site-packages\\sklearn\\base.py:450: UserWarning: X does not have valid feature names, but DecisionTreeClassifier was fitted with feature names\n",
      "  warnings.warn(\n",
      "d:\\HERRI\\Tugas Akhir\\pra\\geographical_news_scrapper\\venv\\lib\\site-packages\\sklearn\\base.py:450: UserWarning: X does not have valid feature names, but DecisionTreeClassifier was fitted with feature names\n",
      "  warnings.warn(\n"
     ]
    },
    {
     "name": "stdout",
     "output_type": "stream",
     "text": [
      "45\n",
      "46\n"
     ]
    },
    {
     "name": "stderr",
     "output_type": "stream",
     "text": [
      "d:\\HERRI\\Tugas Akhir\\pra\\geographical_news_scrapper\\venv\\lib\\site-packages\\sklearn\\base.py:450: UserWarning: X does not have valid feature names, but DecisionTreeClassifier was fitted with feature names\n",
      "  warnings.warn(\n",
      "d:\\HERRI\\Tugas Akhir\\pra\\geographical_news_scrapper\\venv\\lib\\site-packages\\sklearn\\base.py:450: UserWarning: X does not have valid feature names, but DecisionTreeClassifier was fitted with feature names\n",
      "  warnings.warn(\n"
     ]
    },
    {
     "name": "stdout",
     "output_type": "stream",
     "text": [
      "47\n",
      "48\n"
     ]
    },
    {
     "name": "stderr",
     "output_type": "stream",
     "text": [
      "d:\\HERRI\\Tugas Akhir\\pra\\geographical_news_scrapper\\venv\\lib\\site-packages\\sklearn\\base.py:450: UserWarning: X does not have valid feature names, but DecisionTreeClassifier was fitted with feature names\n",
      "  warnings.warn(\n",
      "d:\\HERRI\\Tugas Akhir\\pra\\geographical_news_scrapper\\venv\\lib\\site-packages\\sklearn\\base.py:450: UserWarning: X does not have valid feature names, but DecisionTreeClassifier was fitted with feature names\n",
      "  warnings.warn(\n"
     ]
    },
    {
     "name": "stdout",
     "output_type": "stream",
     "text": [
      "49\n",
      "50\n"
     ]
    },
    {
     "name": "stderr",
     "output_type": "stream",
     "text": [
      "d:\\HERRI\\Tugas Akhir\\pra\\geographical_news_scrapper\\venv\\lib\\site-packages\\sklearn\\base.py:450: UserWarning: X does not have valid feature names, but DecisionTreeClassifier was fitted with feature names\n",
      "  warnings.warn(\n",
      "d:\\HERRI\\Tugas Akhir\\pra\\geographical_news_scrapper\\venv\\lib\\site-packages\\sklearn\\base.py:450: UserWarning: X does not have valid feature names, but DecisionTreeClassifier was fitted with feature names\n",
      "  warnings.warn(\n"
     ]
    },
    {
     "name": "stdout",
     "output_type": "stream",
     "text": [
      "51\n",
      "52\n"
     ]
    },
    {
     "name": "stderr",
     "output_type": "stream",
     "text": [
      "d:\\HERRI\\Tugas Akhir\\pra\\geographical_news_scrapper\\venv\\lib\\site-packages\\sklearn\\base.py:450: UserWarning: X does not have valid feature names, but DecisionTreeClassifier was fitted with feature names\n",
      "  warnings.warn(\n",
      "d:\\HERRI\\Tugas Akhir\\pra\\geographical_news_scrapper\\venv\\lib\\site-packages\\sklearn\\base.py:450: UserWarning: X does not have valid feature names, but DecisionTreeClassifier was fitted with feature names\n",
      "  warnings.warn(\n"
     ]
    },
    {
     "name": "stdout",
     "output_type": "stream",
     "text": [
      "53\n",
      "54\n"
     ]
    },
    {
     "name": "stderr",
     "output_type": "stream",
     "text": [
      "d:\\HERRI\\Tugas Akhir\\pra\\geographical_news_scrapper\\venv\\lib\\site-packages\\sklearn\\base.py:450: UserWarning: X does not have valid feature names, but DecisionTreeClassifier was fitted with feature names\n",
      "  warnings.warn(\n",
      "d:\\HERRI\\Tugas Akhir\\pra\\geographical_news_scrapper\\venv\\lib\\site-packages\\sklearn\\base.py:450: UserWarning: X does not have valid feature names, but DecisionTreeClassifier was fitted with feature names\n",
      "  warnings.warn(\n"
     ]
    },
    {
     "name": "stdout",
     "output_type": "stream",
     "text": [
      "55\n",
      "56\n"
     ]
    },
    {
     "name": "stderr",
     "output_type": "stream",
     "text": [
      "d:\\HERRI\\Tugas Akhir\\pra\\geographical_news_scrapper\\venv\\lib\\site-packages\\sklearn\\base.py:450: UserWarning: X does not have valid feature names, but DecisionTreeClassifier was fitted with feature names\n",
      "  warnings.warn(\n",
      "d:\\HERRI\\Tugas Akhir\\pra\\geographical_news_scrapper\\venv\\lib\\site-packages\\sklearn\\base.py:450: UserWarning: X does not have valid feature names, but DecisionTreeClassifier was fitted with feature names\n",
      "  warnings.warn(\n"
     ]
    },
    {
     "name": "stdout",
     "output_type": "stream",
     "text": [
      "57\n",
      "58\n"
     ]
    },
    {
     "name": "stderr",
     "output_type": "stream",
     "text": [
      "d:\\HERRI\\Tugas Akhir\\pra\\geographical_news_scrapper\\venv\\lib\\site-packages\\sklearn\\base.py:450: UserWarning: X does not have valid feature names, but DecisionTreeClassifier was fitted with feature names\n",
      "  warnings.warn(\n",
      "d:\\HERRI\\Tugas Akhir\\pra\\geographical_news_scrapper\\venv\\lib\\site-packages\\sklearn\\base.py:450: UserWarning: X does not have valid feature names, but DecisionTreeClassifier was fitted with feature names\n",
      "  warnings.warn(\n"
     ]
    },
    {
     "name": "stdout",
     "output_type": "stream",
     "text": [
      "59\n",
      "60\n"
     ]
    },
    {
     "name": "stderr",
     "output_type": "stream",
     "text": [
      "d:\\HERRI\\Tugas Akhir\\pra\\geographical_news_scrapper\\venv\\lib\\site-packages\\sklearn\\base.py:450: UserWarning: X does not have valid feature names, but DecisionTreeClassifier was fitted with feature names\n",
      "  warnings.warn(\n",
      "d:\\HERRI\\Tugas Akhir\\pra\\geographical_news_scrapper\\venv\\lib\\site-packages\\sklearn\\base.py:450: UserWarning: X does not have valid feature names, but DecisionTreeClassifier was fitted with feature names\n",
      "  warnings.warn(\n"
     ]
    },
    {
     "name": "stdout",
     "output_type": "stream",
     "text": [
      "61\n",
      "62\n"
     ]
    },
    {
     "name": "stderr",
     "output_type": "stream",
     "text": [
      "d:\\HERRI\\Tugas Akhir\\pra\\geographical_news_scrapper\\venv\\lib\\site-packages\\sklearn\\base.py:450: UserWarning: X does not have valid feature names, but DecisionTreeClassifier was fitted with feature names\n",
      "  warnings.warn(\n",
      "d:\\HERRI\\Tugas Akhir\\pra\\geographical_news_scrapper\\venv\\lib\\site-packages\\sklearn\\base.py:450: UserWarning: X does not have valid feature names, but DecisionTreeClassifier was fitted with feature names\n",
      "  warnings.warn(\n"
     ]
    },
    {
     "name": "stdout",
     "output_type": "stream",
     "text": [
      "63\n",
      "64\n"
     ]
    },
    {
     "name": "stderr",
     "output_type": "stream",
     "text": [
      "d:\\HERRI\\Tugas Akhir\\pra\\geographical_news_scrapper\\venv\\lib\\site-packages\\sklearn\\base.py:450: UserWarning: X does not have valid feature names, but DecisionTreeClassifier was fitted with feature names\n",
      "  warnings.warn(\n",
      "d:\\HERRI\\Tugas Akhir\\pra\\geographical_news_scrapper\\venv\\lib\\site-packages\\sklearn\\base.py:450: UserWarning: X does not have valid feature names, but DecisionTreeClassifier was fitted with feature names\n",
      "  warnings.warn(\n"
     ]
    },
    {
     "name": "stdout",
     "output_type": "stream",
     "text": [
      "65\n",
      "66\n"
     ]
    },
    {
     "name": "stderr",
     "output_type": "stream",
     "text": [
      "d:\\HERRI\\Tugas Akhir\\pra\\geographical_news_scrapper\\venv\\lib\\site-packages\\sklearn\\base.py:450: UserWarning: X does not have valid feature names, but DecisionTreeClassifier was fitted with feature names\n",
      "  warnings.warn(\n",
      "d:\\HERRI\\Tugas Akhir\\pra\\geographical_news_scrapper\\venv\\lib\\site-packages\\sklearn\\base.py:450: UserWarning: X does not have valid feature names, but DecisionTreeClassifier was fitted with feature names\n",
      "  warnings.warn(\n"
     ]
    },
    {
     "name": "stdout",
     "output_type": "stream",
     "text": [
      "67\n",
      "68\n"
     ]
    },
    {
     "name": "stderr",
     "output_type": "stream",
     "text": [
      "d:\\HERRI\\Tugas Akhir\\pra\\geographical_news_scrapper\\venv\\lib\\site-packages\\sklearn\\base.py:450: UserWarning: X does not have valid feature names, but DecisionTreeClassifier was fitted with feature names\n",
      "  warnings.warn(\n",
      "d:\\HERRI\\Tugas Akhir\\pra\\geographical_news_scrapper\\venv\\lib\\site-packages\\sklearn\\base.py:450: UserWarning: X does not have valid feature names, but DecisionTreeClassifier was fitted with feature names\n",
      "  warnings.warn(\n"
     ]
    },
    {
     "name": "stdout",
     "output_type": "stream",
     "text": [
      "69\n",
      "70\n"
     ]
    },
    {
     "name": "stderr",
     "output_type": "stream",
     "text": [
      "d:\\HERRI\\Tugas Akhir\\pra\\geographical_news_scrapper\\venv\\lib\\site-packages\\sklearn\\base.py:450: UserWarning: X does not have valid feature names, but DecisionTreeClassifier was fitted with feature names\n",
      "  warnings.warn(\n",
      "d:\\HERRI\\Tugas Akhir\\pra\\geographical_news_scrapper\\venv\\lib\\site-packages\\sklearn\\base.py:450: UserWarning: X does not have valid feature names, but DecisionTreeClassifier was fitted with feature names\n",
      "  warnings.warn(\n"
     ]
    },
    {
     "name": "stdout",
     "output_type": "stream",
     "text": [
      "71\n",
      "72\n"
     ]
    },
    {
     "name": "stderr",
     "output_type": "stream",
     "text": [
      "d:\\HERRI\\Tugas Akhir\\pra\\geographical_news_scrapper\\venv\\lib\\site-packages\\sklearn\\base.py:450: UserWarning: X does not have valid feature names, but DecisionTreeClassifier was fitted with feature names\n",
      "  warnings.warn(\n",
      "d:\\HERRI\\Tugas Akhir\\pra\\geographical_news_scrapper\\venv\\lib\\site-packages\\sklearn\\base.py:450: UserWarning: X does not have valid feature names, but DecisionTreeClassifier was fitted with feature names\n",
      "  warnings.warn(\n"
     ]
    },
    {
     "name": "stdout",
     "output_type": "stream",
     "text": [
      "73\n",
      "74\n"
     ]
    },
    {
     "name": "stderr",
     "output_type": "stream",
     "text": [
      "d:\\HERRI\\Tugas Akhir\\pra\\geographical_news_scrapper\\venv\\lib\\site-packages\\sklearn\\base.py:450: UserWarning: X does not have valid feature names, but DecisionTreeClassifier was fitted with feature names\n",
      "  warnings.warn(\n",
      "d:\\HERRI\\Tugas Akhir\\pra\\geographical_news_scrapper\\venv\\lib\\site-packages\\sklearn\\base.py:450: UserWarning: X does not have valid feature names, but DecisionTreeClassifier was fitted with feature names\n",
      "  warnings.warn(\n"
     ]
    },
    {
     "name": "stdout",
     "output_type": "stream",
     "text": [
      "75\n",
      "76\n"
     ]
    },
    {
     "name": "stderr",
     "output_type": "stream",
     "text": [
      "d:\\HERRI\\Tugas Akhir\\pra\\geographical_news_scrapper\\venv\\lib\\site-packages\\sklearn\\base.py:450: UserWarning: X does not have valid feature names, but DecisionTreeClassifier was fitted with feature names\n",
      "  warnings.warn(\n",
      "d:\\HERRI\\Tugas Akhir\\pra\\geographical_news_scrapper\\venv\\lib\\site-packages\\sklearn\\base.py:450: UserWarning: X does not have valid feature names, but DecisionTreeClassifier was fitted with feature names\n",
      "  warnings.warn(\n"
     ]
    },
    {
     "name": "stdout",
     "output_type": "stream",
     "text": [
      "77\n",
      "78\n"
     ]
    },
    {
     "name": "stderr",
     "output_type": "stream",
     "text": [
      "d:\\HERRI\\Tugas Akhir\\pra\\geographical_news_scrapper\\venv\\lib\\site-packages\\sklearn\\base.py:450: UserWarning: X does not have valid feature names, but DecisionTreeClassifier was fitted with feature names\n",
      "  warnings.warn(\n",
      "d:\\HERRI\\Tugas Akhir\\pra\\geographical_news_scrapper\\venv\\lib\\site-packages\\sklearn\\base.py:450: UserWarning: X does not have valid feature names, but DecisionTreeClassifier was fitted with feature names\n",
      "  warnings.warn(\n"
     ]
    },
    {
     "name": "stdout",
     "output_type": "stream",
     "text": [
      "79\n",
      "80\n"
     ]
    },
    {
     "name": "stderr",
     "output_type": "stream",
     "text": [
      "d:\\HERRI\\Tugas Akhir\\pra\\geographical_news_scrapper\\venv\\lib\\site-packages\\sklearn\\base.py:450: UserWarning: X does not have valid feature names, but DecisionTreeClassifier was fitted with feature names\n",
      "  warnings.warn(\n",
      "d:\\HERRI\\Tugas Akhir\\pra\\geographical_news_scrapper\\venv\\lib\\site-packages\\sklearn\\base.py:450: UserWarning: X does not have valid feature names, but DecisionTreeClassifier was fitted with feature names\n",
      "  warnings.warn(\n"
     ]
    },
    {
     "name": "stdout",
     "output_type": "stream",
     "text": [
      "81\n",
      "82\n"
     ]
    },
    {
     "name": "stderr",
     "output_type": "stream",
     "text": [
      "d:\\HERRI\\Tugas Akhir\\pra\\geographical_news_scrapper\\venv\\lib\\site-packages\\sklearn\\base.py:450: UserWarning: X does not have valid feature names, but DecisionTreeClassifier was fitted with feature names\n",
      "  warnings.warn(\n",
      "d:\\HERRI\\Tugas Akhir\\pra\\geographical_news_scrapper\\venv\\lib\\site-packages\\sklearn\\base.py:450: UserWarning: X does not have valid feature names, but DecisionTreeClassifier was fitted with feature names\n",
      "  warnings.warn(\n"
     ]
    },
    {
     "name": "stdout",
     "output_type": "stream",
     "text": [
      "83\n",
      "84\n"
     ]
    },
    {
     "name": "stderr",
     "output_type": "stream",
     "text": [
      "d:\\HERRI\\Tugas Akhir\\pra\\geographical_news_scrapper\\venv\\lib\\site-packages\\sklearn\\base.py:450: UserWarning: X does not have valid feature names, but DecisionTreeClassifier was fitted with feature names\n",
      "  warnings.warn(\n",
      "d:\\HERRI\\Tugas Akhir\\pra\\geographical_news_scrapper\\venv\\lib\\site-packages\\sklearn\\base.py:450: UserWarning: X does not have valid feature names, but DecisionTreeClassifier was fitted with feature names\n",
      "  warnings.warn(\n"
     ]
    },
    {
     "name": "stdout",
     "output_type": "stream",
     "text": [
      "85\n",
      "86\n"
     ]
    },
    {
     "name": "stderr",
     "output_type": "stream",
     "text": [
      "d:\\HERRI\\Tugas Akhir\\pra\\geographical_news_scrapper\\venv\\lib\\site-packages\\sklearn\\base.py:450: UserWarning: X does not have valid feature names, but DecisionTreeClassifier was fitted with feature names\n",
      "  warnings.warn(\n",
      "d:\\HERRI\\Tugas Akhir\\pra\\geographical_news_scrapper\\venv\\lib\\site-packages\\sklearn\\base.py:450: UserWarning: X does not have valid feature names, but DecisionTreeClassifier was fitted with feature names\n",
      "  warnings.warn(\n"
     ]
    },
    {
     "name": "stdout",
     "output_type": "stream",
     "text": [
      "87\n",
      "88\n"
     ]
    },
    {
     "name": "stderr",
     "output_type": "stream",
     "text": [
      "d:\\HERRI\\Tugas Akhir\\pra\\geographical_news_scrapper\\venv\\lib\\site-packages\\sklearn\\base.py:450: UserWarning: X does not have valid feature names, but DecisionTreeClassifier was fitted with feature names\n",
      "  warnings.warn(\n",
      "d:\\HERRI\\Tugas Akhir\\pra\\geographical_news_scrapper\\venv\\lib\\site-packages\\sklearn\\base.py:450: UserWarning: X does not have valid feature names, but DecisionTreeClassifier was fitted with feature names\n",
      "  warnings.warn(\n"
     ]
    },
    {
     "name": "stdout",
     "output_type": "stream",
     "text": [
      "89\n",
      "90\n"
     ]
    },
    {
     "name": "stderr",
     "output_type": "stream",
     "text": [
      "d:\\HERRI\\Tugas Akhir\\pra\\geographical_news_scrapper\\venv\\lib\\site-packages\\sklearn\\base.py:450: UserWarning: X does not have valid feature names, but DecisionTreeClassifier was fitted with feature names\n",
      "  warnings.warn(\n",
      "d:\\HERRI\\Tugas Akhir\\pra\\geographical_news_scrapper\\venv\\lib\\site-packages\\sklearn\\base.py:450: UserWarning: X does not have valid feature names, but DecisionTreeClassifier was fitted with feature names\n",
      "  warnings.warn(\n"
     ]
    },
    {
     "name": "stdout",
     "output_type": "stream",
     "text": [
      "91\n",
      "92\n"
     ]
    },
    {
     "name": "stderr",
     "output_type": "stream",
     "text": [
      "d:\\HERRI\\Tugas Akhir\\pra\\geographical_news_scrapper\\venv\\lib\\site-packages\\sklearn\\base.py:450: UserWarning: X does not have valid feature names, but DecisionTreeClassifier was fitted with feature names\n",
      "  warnings.warn(\n",
      "d:\\HERRI\\Tugas Akhir\\pra\\geographical_news_scrapper\\venv\\lib\\site-packages\\sklearn\\base.py:450: UserWarning: X does not have valid feature names, but DecisionTreeClassifier was fitted with feature names\n",
      "  warnings.warn(\n"
     ]
    },
    {
     "name": "stdout",
     "output_type": "stream",
     "text": [
      "93\n",
      "94\n"
     ]
    },
    {
     "name": "stderr",
     "output_type": "stream",
     "text": [
      "d:\\HERRI\\Tugas Akhir\\pra\\geographical_news_scrapper\\venv\\lib\\site-packages\\sklearn\\base.py:450: UserWarning: X does not have valid feature names, but DecisionTreeClassifier was fitted with feature names\n",
      "  warnings.warn(\n",
      "d:\\HERRI\\Tugas Akhir\\pra\\geographical_news_scrapper\\venv\\lib\\site-packages\\sklearn\\base.py:450: UserWarning: X does not have valid feature names, but DecisionTreeClassifier was fitted with feature names\n",
      "  warnings.warn(\n"
     ]
    },
    {
     "name": "stdout",
     "output_type": "stream",
     "text": [
      "95\n",
      "96\n"
     ]
    },
    {
     "name": "stderr",
     "output_type": "stream",
     "text": [
      "d:\\HERRI\\Tugas Akhir\\pra\\geographical_news_scrapper\\venv\\lib\\site-packages\\sklearn\\base.py:450: UserWarning: X does not have valid feature names, but DecisionTreeClassifier was fitted with feature names\n",
      "  warnings.warn(\n",
      "d:\\HERRI\\Tugas Akhir\\pra\\geographical_news_scrapper\\venv\\lib\\site-packages\\sklearn\\base.py:450: UserWarning: X does not have valid feature names, but DecisionTreeClassifier was fitted with feature names\n",
      "  warnings.warn(\n"
     ]
    },
    {
     "name": "stdout",
     "output_type": "stream",
     "text": [
      "97\n",
      "98\n",
      "99\n"
     ]
    },
    {
     "name": "stderr",
     "output_type": "stream",
     "text": [
      "d:\\HERRI\\Tugas Akhir\\pra\\geographical_news_scrapper\\venv\\lib\\site-packages\\sklearn\\base.py:450: UserWarning: X does not have valid feature names, but DecisionTreeClassifier was fitted with feature names\n",
      "  warnings.warn(\n",
      "d:\\HERRI\\Tugas Akhir\\pra\\geographical_news_scrapper\\venv\\lib\\site-packages\\sklearn\\base.py:450: UserWarning: X does not have valid feature names, but DecisionTreeClassifier was fitted with feature names\n",
      "  warnings.warn(\n"
     ]
    }
   ],
   "source": [
    "cekhasil()"
   ]
  }
 ],
 "metadata": {
  "kernelspec": {
   "display_name": "Python 3.8.8 ('venv': venv)",
   "language": "python",
   "name": "python3"
  },
  "language_info": {
   "codemirror_mode": {
    "name": "ipython",
    "version": 3
   },
   "file_extension": ".py",
   "mimetype": "text/x-python",
   "name": "python",
   "nbconvert_exporter": "python",
   "pygments_lexer": "ipython3",
   "version": "3.8.8"
  },
  "orig_nbformat": 4,
  "vscode": {
   "interpreter": {
    "hash": "6343607a20e82ef6625b7fa1bae99c65a25c983ca57e45f4fe7d94f1371f6b71"
   }
  }
 },
 "nbformat": 4,
 "nbformat_minor": 2
}
